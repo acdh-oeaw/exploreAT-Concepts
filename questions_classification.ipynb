{
 "cells": [
  {
   "cell_type": "code",
   "execution_count": 1,
   "metadata": {},
   "outputs": [],
   "source": [
    "import random\n",
    "import time\n",
    "import pickle\n",
    "import sys\n",
    "import json\n",
    "import re\n",
    "import string\n",
    "import collections\n",
    "import codecs\n",
    "from io import BytesIO\n",
    "\n",
    "import numpy as np\n",
    "import pandas as pd\n",
    "#import matplotlib.pyplot as plt\n",
    "#import matplotlib as mpl\n",
    "\n",
    "#from sklearn import feature_extraction\n",
    "\n",
    "#import gensim\n",
    "#from gensim import corpora\n",
    "#from gensim.corpora import WikiCorpus\n",
    "#from gensim.models import Word2Vec\n",
    "#from gensim.models.word2vec import LineSentence\n",
    "\n",
    "#import pyLDAvis\n",
    "#import pyLDAvis.gensim\n",
    "\n",
    "import nltk\n",
    "from nltk.corpus import stopwords\n",
    "from nltk.tag.sequential import ClassifierBasedTagger\n",
    "#from nltk.stem.wordnet import WordNetLemmatizer\n",
    "#from nltk.tokenize import word_tokenize\n",
    "\n",
    "import pygraphviz\n",
    "import networkx as nx\n",
    "from networkx.drawing.nx_agraph import graphviz_layout\n",
    "\n",
    "\n",
    "from IPython.display import display, Image\n",
    "from IPython.core.interactiveshell import InteractiveShell\n",
    "\n",
    "pd.options.mode.chained_assignment = None  # default='warn'"
   ]
  },
  {
   "cell_type": "markdown",
   "metadata": {},
   "source": [
    "### Classifying the questions"
   ]
  },
  {
   "cell_type": "code",
   "execution_count": 2,
   "metadata": {},
   "outputs": [],
   "source": [
    "frage_complete = pd.read_pickle('./frage.pickle')"
   ]
  },
  {
   "cell_type": "code",
   "execution_count": 3,
   "metadata": {},
   "outputs": [
    {
     "data": {
      "text/html": [
       "<div>\n",
       "<style scoped>\n",
       "    .dataframe tbody tr th:only-of-type {\n",
       "        vertical-align: middle;\n",
       "    }\n",
       "\n",
       "    .dataframe tbody tr th {\n",
       "        vertical-align: top;\n",
       "    }\n",
       "\n",
       "    .dataframe thead th {\n",
       "        text-align: right;\n",
       "    }\n",
       "</style>\n",
       "<table border=\"1\" class=\"dataframe\">\n",
       "  <thead>\n",
       "    <tr style=\"text-align: right;\">\n",
       "      <th></th>\n",
       "      <th>id</th>\n",
       "      <th>fragebogen_num</th>\n",
       "      <th>frage_num</th>\n",
       "      <th>original_frage</th>\n",
       "      <th>kurzfrage</th>\n",
       "    </tr>\n",
       "  </thead>\n",
       "  <tbody>\n",
       "    <tr>\n",
       "      <th>0</th>\n",
       "      <td>1</td>\n",
       "      <td>1</td>\n",
       "      <td>A1</td>\n",
       "      <td>Kopf: Kopf, Haupt; auch scherzh./übertr.</td>\n",
       "      <td>Kopf, Haupt; auch scherzh./übertr.</td>\n",
       "    </tr>\n",
       "    <tr>\n",
       "      <th>1</th>\n",
       "      <td>2</td>\n",
       "      <td>1</td>\n",
       "      <td>A2</td>\n",
       "      <td>Kopf: Kopf/Haupt (in urspr. Bed.) in Vergl./Ra...</td>\n",
       "      <td>Kopf/Haupt (urspr.Bed.) in Vergl./Ra.*</td>\n",
       "    </tr>\n",
       "    <tr>\n",
       "      <th>2</th>\n",
       "      <td>3</td>\n",
       "      <td>1</td>\n",
       "      <td>A3</td>\n",
       "      <td>Kopf: Kopf/Haupt (übertr.) in Vergl./Ra. (das ...</td>\n",
       "      <td>Kopf/Haupt (übertr.) in Vergl./Ra.*</td>\n",
       "    </tr>\n",
       "    <tr>\n",
       "      <th>3</th>\n",
       "      <td>4</td>\n",
       "      <td>1</td>\n",
       "      <td>A4</td>\n",
       "      <td>Kopf: schöner, ebenmäßig gebauter Kopf (Christ...</td>\n",
       "      <td>schöner, ebenmäßiger Kopf (Christus-, Titusk.)</td>\n",
       "    </tr>\n",
       "    <tr>\n",
       "      <th>4</th>\n",
       "      <td>5</td>\n",
       "      <td>1</td>\n",
       "      <td>A4a</td>\n",
       "      <td>Kopf: häßlicher, unebenmäßiger Kopf</td>\n",
       "      <td>häßlicher, unebenmäßiger Kopf</td>\n",
       "    </tr>\n",
       "  </tbody>\n",
       "</table>\n",
       "</div>"
      ],
      "text/plain": [
       "   id  fragebogen_num frage_num  \\\n",
       "0   1               1        A1   \n",
       "1   2               1        A2   \n",
       "2   3               1        A3   \n",
       "3   4               1        A4   \n",
       "4   5               1       A4a   \n",
       "\n",
       "                                      original_frage  \\\n",
       "0           Kopf: Kopf, Haupt; auch scherzh./übertr.   \n",
       "1  Kopf: Kopf/Haupt (in urspr. Bed.) in Vergl./Ra...   \n",
       "2  Kopf: Kopf/Haupt (übertr.) in Vergl./Ra. (das ...   \n",
       "3  Kopf: schöner, ebenmäßig gebauter Kopf (Christ...   \n",
       "4                Kopf: häßlicher, unebenmäßiger Kopf   \n",
       "\n",
       "                                        kurzfrage  \n",
       "0              Kopf, Haupt; auch scherzh./übertr.  \n",
       "1          Kopf/Haupt (urspr.Bed.) in Vergl./Ra.*  \n",
       "2             Kopf/Haupt (übertr.) in Vergl./Ra.*  \n",
       "3  schöner, ebenmäßiger Kopf (Christus-, Titusk.)  \n",
       "4                   häßlicher, unebenmäßiger Kopf  "
      ]
     },
     "execution_count": 3,
     "metadata": {},
     "output_type": "execute_result"
    }
   ],
   "source": [
    "frage_complete[['id', 'fragebogen_num', 'frage_num', 'original_frage', 'kurzfrage',]].head()"
   ]
  },
  {
   "cell_type": "code",
   "execution_count": 4,
   "metadata": {},
   "outputs": [
    {
     "name": "stdout",
     "output_type": "stream",
     "text": [
      "<class 'pandas.core.frame.DataFrame'>\n",
      "Int64Index: 16738 entries, 0 to 16743\n",
      "Data columns (total 5 columns):\n",
      "id                16738 non-null int64\n",
      "fragebogen_num    16738 non-null int64\n",
      "frage_num         16738 non-null object\n",
      "original_frage    16738 non-null object\n",
      "kurzfrage         16738 non-null object\n",
      "dtypes: int64(2), object(3)\n",
      "memory usage: 784.6+ KB\n"
     ]
    }
   ],
   "source": [
    "frage_complete[['id', 'fragebogen_num', 'frage_num', 'original_frage', 'kurzfrage',]].info()"
   ]
  },
  {
   "cell_type": "code",
   "execution_count": 5,
   "metadata": {},
   "outputs": [
    {
     "data": {
      "text/plain": [
       "116      Palmso.: Palmbuschen, Sachl.: woraus besteht e...\n",
       "118      Palmso.: was geschieht m. d. Palmbuschen/-gert...\n",
       "124      Palmso.: Palmesel; auch als SpottN?; Ra. (aufg...\n",
       "126      Palmso.: wird bei d. Palmeselfahrt e. Christbi...\n",
       "129      Palmso.: wie heißt Woche vor d. Palmsonntag? h...\n",
       "                               ...                        \n",
       "16466    Gewerbe: Goldarbeiter, Goldschmied; Ra. wie: D...\n",
       "16472    Gewerbe: Gold; Ra. wie: Es ist nicht alles Gol...\n",
       "16530    Gewerbe: Drechslerhandwerk: Ra. wie: ich werde...\n",
       "16556    Gewerbe: Bürstenbinder; Ra. wie: saufen wie ei...\n",
       "16719    Gewerbe: Lohn, Pl.; Ra. wie: einem seinen Lohn...\n",
       "Name: original_frage, Length: 928, dtype: object"
      ]
     },
     "execution_count": 5,
     "metadata": {},
     "output_type": "execute_result"
    }
   ],
   "source": [
    "#frage_complete[frage_complete.original_frage.str.contains(pat = '\\?')]['original_frage']\n",
    "frage_complete[frage_complete.original_frage.str.contains(pat = 'wie |wer |was ', regex = True)]['original_frage']"
   ]
  },
  {
   "cell_type": "markdown",
   "metadata": {},
   "source": [
    "#### Questions patterns"
   ]
  },
  {
   "cell_type": "code",
   "execution_count": null,
   "metadata": {},
   "outputs": [],
   "source": [
    "onomasiological_naming = ['Bez.', '-bez.', 'Bezeichng.','wie nennt man','was bezeichnet',\n",
    "                          'wie heißen','wie heißt', 'Benennung', 'Benenng']\n",
    "onomasiological_drawing = []\n",
    "semasiological_meaning = ['Bedeutung', 'Bed.', 'was bedeutet']\n",
    "agreement_yes_no = []\n",
    "agreement_pronunciation = ['Ltg.','Lautung','Lautungen']\n",
    "description_events = ['Beschr.','Beschreibg.','Beschreibung']\n",
    "description_sayings = ['Ausdrücke']\n",
    "illustration_drawing = []\n",
    "morphological_compound_1 = ['Komp.']\n",
    "morphological_compound_2 = ['Gw.']\n",
    "morphological_compound_3 = ['Bw']\n",
    "morphological_diminutive = ['Dem.']\n",
    "morphological_plural = ['Plural','Pl.']\n",
    "morphological_forms = []\n",
    "morphological_derivatives = ['Abl.','Ableitung']\n",
    "syntactic_constructions = ['Fügungen', 'Wendungen','Füg.']\n",
    "syntactic_idioms = ['Sprichw.', 'Ra.']\n",
    "phonological_pronunciation = ['Aussprache','Ausspr.', 'Ltg.']\n",
    "metaphorical_conveyed_meanings = ['Übertr.', 'übertragener Bedeutung']\n",
    "synonyms = ['Syn.', 'Synonym']\n",
    "synonyms_contrast = ['Ggs.','Gegensatz'] \n",
    "synonyms_comparison = ['Vgl.','Vergl.','Vergleich']\n",
    "cultural_beliefs = ['Aberglaube','Volksaberglaube','Volksglaube']\n",
    "cultural_event = ['Bräuche', 'Brauch', 'dabei', 'Ausdrücke']\n",
    "cultural_medicine = ['Volksheilmittel','Heilmittel','Blutreinigungsmittel','volkstüml','Gegenmittel']\n",
    "cultural_prayer = ['Gebete']\n",
    "cultural_songs = ['Lieder','Gesangs']\n",
    "cultural_humor = ['Volkswitze','Mesnerwitze']\n",
    "cultural_games_1 = ['Finger','Spiel','Kinderspiel','Laufspiele','spielen']\n",
    "cultural_games_2 = ['Ausdrücke', 'Spiel']\n",
    "cultural_food = ['zutat','speise','braten','Gebäck','Apfel','Kartoffel','Essen','Bier','trinken']\n",
    "cultural_living_organisms = []\n",
    "cultural_dances = ['Tänze','Tanz']\n",
    "\n",
    "pattern_list = ['onomasiological_naming', 'onomasiological_drawing',\n",
    "                'semasiological_meaning', \n",
    "                'agreement_yes_no', 'agreement_pronunciation', \n",
    "                'description_events', 'description_sayings', \n",
    "                'illustration_drawing', \n",
    "                'morphological_compound_1', 'morphological_compound_2', 'morphological_compound_3',\n",
    "                'morphological_diminutive', 'morphological_plural', 'morphological_forms', 'morphological_derivatives', \n",
    "                'syntactic_constructions', 'syntactic_idioms',\n",
    "                'phonological_pronunciation',\n",
    "                'metaphorical_conveyed_meanings',\n",
    "                'synonyms', 'synonyms_contrast', 'synonyms_comparison',\n",
    "                'cultural_beliefs', 'cultural_event', 'cultural_medicine', 'cultural_prayer', \n",
    "                'cultural_songs', 'cultural_humor', 'cultural_games_1', 'cultural_games_2', \n",
    "                'cultural_food', 'cultural_living_organisms', 'cultural_dances'\n",
    "               ]"
   ]
  },
  {
   "cell_type": "code",
   "execution_count": null,
   "metadata": {},
   "outputs": [],
   "source": [
    "def test_type(entry):\n",
    "    question_type = None\n",
    "    for patterns in pattern_list:\n",
    "        if eval(patterns):\n",
    "            for pattern in eval(patterns):\n",
    "                if pattern.lower() in entry.lower():\n",
    "                    if question_type == None:\n",
    "                        question_type = [patterns]\n",
    "                    elif question_type == [patterns]:\n",
    "                        break\n",
    "                    else:\n",
    "                        question_type.append(patterns)\n",
    "                    break\n",
    "    return question_type"
   ]
  },
  {
   "cell_type": "code",
   "execution_count": null,
   "metadata": {},
   "outputs": [],
   "source": [
    "frage_complete.original_frage.apply(test_type).dropna() #.unique() #value_counts(dropna=False)"
   ]
  },
  {
   "cell_type": "code",
   "execution_count": null,
   "metadata": {},
   "outputs": [],
   "source": [
    "frage_complete['frage_type'] = frage_complete.original_frage.apply(test_type)\n",
    "print(f\"{len(frage_complete['frage_type'].dropna())} questions were classified out of {len(frage_complete)}\")"
   ]
  },
  {
   "cell_type": "code",
   "execution_count": null,
   "metadata": {},
   "outputs": [],
   "source": [
    "frage_complete.loc[frage_complete.original_frage.apply(test_type).isna(), 'original_frage']"
   ]
  },
  {
   "cell_type": "code",
   "execution_count": null,
   "metadata": {},
   "outputs": [],
   "source": []
  }
 ],
 "metadata": {
  "kernelspec": {
   "display_name": "Python 3",
   "language": "python",
   "name": "python3"
  },
  "language_info": {
   "codemirror_mode": {
    "name": "ipython",
    "version": 3
   },
   "file_extension": ".py",
   "mimetype": "text/x-python",
   "name": "python",
   "nbconvert_exporter": "python",
   "pygments_lexer": "ipython3",
   "version": "3.6.8"
  }
 },
 "nbformat": 4,
 "nbformat_minor": 4
}
