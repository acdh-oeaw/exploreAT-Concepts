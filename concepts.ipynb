{
 "cells": [
  {
   "cell_type": "markdown",
   "metadata": {},
   "source": [
    "## Importing packages"
   ]
  },
  {
   "cell_type": "code",
   "execution_count": 1,
   "metadata": {},
   "outputs": [],
   "source": [
    "import random\n",
    "import time\n",
    "import pickle\n",
    "import sys\n",
    "import re\n",
    "import string\n",
    "import collections\n",
    "from io import BytesIO\n",
    "\n",
    "import numpy as np\n",
    "import pandas as pd\n",
    "import matplotlib.pyplot as plt\n",
    "import matplotlib as mpl\n",
    "import mpld3\n",
    "\n",
    "from sklearn import feature_extraction\n",
    "import gensim\n",
    "from gensim import corpora\n",
    "import pyLDAvis\n",
    "import pyLDAvis.gensim\n",
    "\n",
    "import nltk\n",
    "from nltk.corpus import stopwords\n",
    "from nltk.tag.sequential import ClassifierBasedTagger\n",
    "#from nltk.stem.wordnet import WordNetLemmatizer\n",
    "#from nltk.tokenize import word_tokenize\n",
    "\n",
    "import pygraphviz\n",
    "import networkx as nx\n",
    "from networkx.drawing.nx_agraph import graphviz_layout\n",
    "\n",
    "\n",
    "from IPython.display import display, Image\n",
    "from IPython.core.interactiveshell import InteractiveShell\n",
    "\n",
    "pd.options.mode.chained_assignment = None  # default='warn'"
   ]
  },
  {
   "cell_type": "markdown",
   "metadata": {},
   "source": [
    "## Developing a function to resolve abbreviations"
   ]
  },
  {
   "cell_type": "code",
   "execution_count": 2,
   "metadata": {},
   "outputs": [
    {
     "data": {
      "text/html": [
       "<div>\n",
       "<style scoped>\n",
       "    .dataframe tbody tr th:only-of-type {\n",
       "        vertical-align: middle;\n",
       "    }\n",
       "\n",
       "    .dataframe tbody tr th {\n",
       "        vertical-align: top;\n",
       "    }\n",
       "\n",
       "    .dataframe thead th {\n",
       "        text-align: right;\n",
       "    }\n",
       "</style>\n",
       "<table border=\"1\" class=\"dataframe\">\n",
       "  <thead>\n",
       "    <tr style=\"text-align: right;\">\n",
       "      <th></th>\n",
       "      <th>abbreviated</th>\n",
       "      <th>expanded</th>\n",
       "    </tr>\n",
       "  </thead>\n",
       "  <tbody>\n",
       "    <tr>\n",
       "      <th>0</th>\n",
       "      <td>.ähnl.</td>\n",
       "      <td>ähnlich</td>\n",
       "    </tr>\n",
       "    <tr>\n",
       "      <th>1</th>\n",
       "      <td>.Bed.</td>\n",
       "      <td>Bedeutung</td>\n",
       "    </tr>\n",
       "    <tr>\n",
       "      <th>2</th>\n",
       "      <td>.Bez.</td>\n",
       "      <td>Bezeichnung</td>\n",
       "    </tr>\n",
       "    <tr>\n",
       "      <th>4</th>\n",
       "      <td>.dgl.</td>\n",
       "      <td>dergleichen</td>\n",
       "    </tr>\n",
       "    <tr>\n",
       "      <th>5</th>\n",
       "      <td>.Füg.</td>\n",
       "      <td>Fügungen</td>\n",
       "    </tr>\n",
       "    <tr>\n",
       "      <th>6</th>\n",
       "      <td>.Komp.</td>\n",
       "      <td>Komposita</td>\n",
       "    </tr>\n",
       "    <tr>\n",
       "      <th>7</th>\n",
       "      <td>.Syn.</td>\n",
       "      <td>Synonyme</td>\n",
       "    </tr>\n",
       "    <tr>\n",
       "      <th>8</th>\n",
       "      <td>.Untersch.</td>\n",
       "      <td>Unterschied</td>\n",
       "    </tr>\n",
       "    <tr>\n",
       "      <th>9</th>\n",
       "      <td>.Vb.</td>\n",
       "      <td>Verba</td>\n",
       "    </tr>\n",
       "    <tr>\n",
       "      <th>10</th>\n",
       "      <td>.Volksüberlieferg.</td>\n",
       "      <td>Volksüberlieferung</td>\n",
       "    </tr>\n",
       "  </tbody>\n",
       "</table>\n",
       "</div>"
      ],
      "text/plain": [
       "           abbreviated            expanded\n",
       "0               .ähnl.             ähnlich\n",
       "1                .Bed.           Bedeutung\n",
       "2                .Bez.         Bezeichnung\n",
       "4                .dgl.         dergleichen\n",
       "5                .Füg.            Fügungen\n",
       "6               .Komp.           Komposita\n",
       "7                .Syn.            Synonyme\n",
       "8           .Untersch.         Unterschied\n",
       "9                 .Vb.               Verba\n",
       "10  .Volksüberlieferg.  Volksüberlieferung"
      ]
     },
     "execution_count": 2,
     "metadata": {},
     "output_type": "execute_result"
    }
   ],
   "source": [
    "abbreviations1 = pd.read_csv('./csv/fragebogen-abbreviations.csv', \n",
    "                             encoding=\"cp1250\",\n",
    "                             sep=',',\n",
    "                             usecols=[0, 1], \n",
    "                             names=[\"abbreviated\",\"expanded\",])\n",
    "abbreviations1.dropna(axis=0, inplace=True)\n",
    "abbreviations1.head(10)"
   ]
  },
  {
   "cell_type": "code",
   "execution_count": 3,
   "metadata": {},
   "outputs": [
    {
     "data": {
      "text/html": [
       "<div>\n",
       "<style scoped>\n",
       "    .dataframe tbody tr th:only-of-type {\n",
       "        vertical-align: middle;\n",
       "    }\n",
       "\n",
       "    .dataframe tbody tr th {\n",
       "        vertical-align: top;\n",
       "    }\n",
       "\n",
       "    .dataframe thead th {\n",
       "        text-align: right;\n",
       "    }\n",
       "</style>\n",
       "<table border=\"1\" class=\"dataframe\">\n",
       "  <thead>\n",
       "    <tr style=\"text-align: right;\">\n",
       "      <th></th>\n",
       "      <th>abbreviated</th>\n",
       "      <th>expanded</th>\n",
       "    </tr>\n",
       "  </thead>\n",
       "  <tbody>\n",
       "    <tr>\n",
       "      <th>3</th>\n",
       "      <td>.d.</td>\n",
       "      <td>der</td>\n",
       "    </tr>\n",
       "    <tr>\n",
       "      <th>20</th>\n",
       "      <td>a.</td>\n",
       "      <td>am</td>\n",
       "    </tr>\n",
       "    <tr>\n",
       "      <th>21</th>\n",
       "      <td>A.</td>\n",
       "      <td>Auge</td>\n",
       "    </tr>\n",
       "    <tr>\n",
       "      <th>22</th>\n",
       "      <td>ä.</td>\n",
       "      <td>ähnlich</td>\n",
       "    </tr>\n",
       "    <tr>\n",
       "      <th>53</th>\n",
       "      <td>Ang.</td>\n",
       "      <td>Angabe</td>\n",
       "    </tr>\n",
       "    <tr>\n",
       "      <th>78</th>\n",
       "      <td>B.</td>\n",
       "      <td>Bauer</td>\n",
       "    </tr>\n",
       "    <tr>\n",
       "      <th>79</th>\n",
       "      <td>b.</td>\n",
       "      <td>bei</td>\n",
       "    </tr>\n",
       "    <tr>\n",
       "      <th>147</th>\n",
       "      <td>d.</td>\n",
       "      <td>der</td>\n",
       "    </tr>\n",
       "    <tr>\n",
       "      <th>165</th>\n",
       "      <td>e.</td>\n",
       "      <td>ein</td>\n",
       "    </tr>\n",
       "    <tr>\n",
       "      <th>195</th>\n",
       "      <td>F.</td>\n",
       "      <td>Femininum</td>\n",
       "    </tr>\n",
       "  </tbody>\n",
       "</table>\n",
       "</div>"
      ],
      "text/plain": [
       "    abbreviated   expanded\n",
       "3           .d.        der\n",
       "20           a.         am\n",
       "21           A.       Auge\n",
       "22           ä.    ähnlich\n",
       "53         Ang.     Angabe\n",
       "78           B.      Bauer\n",
       "79           b.        bei\n",
       "147          d.        der\n",
       "165          e.        ein\n",
       "195          F.  Femininum"
      ]
     },
     "execution_count": 3,
     "metadata": {},
     "output_type": "execute_result"
    }
   ],
   "source": [
    "abbreviations2 = pd.read_csv('./csv/fragebogen-abbreviations.csv', \n",
    "                             encoding=\"cp1250\",\n",
    "                             sep=',',\n",
    "                             usecols=[2, 3], \n",
    "                             names=[\"abbreviated\",\"expanded\",])\n",
    "abbreviations2.dropna(axis=0, inplace=True)\n",
    "abbreviations2.head(10)"
   ]
  },
  {
   "cell_type": "code",
   "execution_count": 4,
   "metadata": {},
   "outputs": [],
   "source": [
    "subst1 = {\" \" + row[\"abbreviated\"]: \" \" + row[\"expanded\"] + \" \" for index, row in abbreviations1.iterrows()}\n",
    "subst2 = {\" \" + row[\"abbreviated\"]: \" \" + row[\"expanded\"] + \" \" for index, row in abbreviations2.iterrows()}"
   ]
  },
  {
   "cell_type": "code",
   "execution_count": 5,
   "metadata": {},
   "outputs": [
    {
     "name": "stdout",
     "output_type": "stream",
     "text": [
      " .ähnl.  ähnlich \n",
      " .Bed.  Bedeutung \n",
      " .Bez.  Bezeichnung \n",
      " .dgl.  dergleichen \n",
      " .Füg.  Fügungen \n",
      " .Komp.  Komposita \n",
      " .Syn.  Synonyme \n",
      " .Untersch.  Unterschied \n",
      " .Vb.  Verba \n"
     ]
    }
   ],
   "source": [
    "for key, value in subst1.items():\n",
    "    print(key, value)\n",
    "    \n",
    "    if key == \" .Vb.\":      #show just the first few items\n",
    "        break"
   ]
  },
  {
   "cell_type": "code",
   "execution_count": 6,
   "metadata": {},
   "outputs": [
    {
     "name": "stdout",
     "output_type": "stream",
     "text": [
      " .d.  der \n",
      " a.  am \n",
      " A.  Auge \n",
      " ä.  ähnlich \n",
      " Ang.  Angabe \n",
      " B.  Bauer \n",
      " b.  bei \n",
      " d.  der \n",
      " e.  ein \n",
      " F.  Femininum \n",
      " f.  für \n",
      " g.  gehen \n"
     ]
    }
   ],
   "source": [
    "for key, value in subst2.items():\n",
    "    print(key, value)\n",
    "    \n",
    "    if key == \" g.\":      #show just the first few items\n",
    "        break"
   ]
  },
  {
   "cell_type": "code",
   "execution_count": 7,
   "metadata": {},
   "outputs": [],
   "source": [
    "def expand_abbreviations(text):\n",
    "    for key in subst1.keys():\n",
    "        if key in text:\n",
    "            text = text.replace(key, subst1[key])\n",
    "            changes[\"abbreviation: \"+key] = subst1[key]\n",
    "        if key.lower() in text:\n",
    "            text = text.replace(key.lower(), subst1[key])\n",
    "            changes[\"abbreviation: \"+key.lower()] = subst1[key]\n",
    "    for key in subst2.keys():\n",
    "        if key in text:\n",
    "            text = text.replace(key, subst2[key])\n",
    "            changes[\"abbreviation: \"+key] = subst2[key]\n",
    "        if key.lower() in text:\n",
    "            text = text.replace(key.lower(), subst2[key])\n",
    "            changes[\"abbreviation: \"+key.lower()] = subst2[key]\n",
    "    return(text)    "
   ]
  },
  {
   "cell_type": "markdown",
   "metadata": {},
   "source": [
    "## Developing a POS and Lemmatizer for German"
   ]
  },
  {
   "cell_type": "markdown",
   "metadata": {},
   "source": [
    "#### Getting POS - [training a classifier with the tiger sentence corpus](https://datascience.blog.wzb.eu/2016/07/13/accurate-part-of-speech-tagging-of-german-texts-with-nltk/)"
   ]
  },
  {
   "cell_type": "code",
   "execution_count": 8,
   "metadata": {},
   "outputs": [],
   "source": [
    "#https://github.com/ptnplanet/NLTK-Contributions/blob/master/ClassifierBasedGermanTagger/ClassifierBasedGermanTagger.py\n",
    "\n",
    "class ClassifierBasedGermanTagger(ClassifierBasedTagger):\n",
    "    \"\"\"A classifier based German part-of-speech tagger. It has an accuracy of\n",
    "    96.09% after being trained on 90% of the German TIGER corpus. The tagger\n",
    "    extends the NLTK ClassifierBasedTagger and implements a slightly modified\n",
    "    feature detector.\n",
    "    \"\"\"\n",
    "\n",
    "    def feature_detector(self, tokens, index, history):\n",
    "        \"\"\"Implementing a slightly modified feature detector.\n",
    "        @param tokens: The tokens from the sentence to tag.\n",
    "        @param index: The current token index to tag.\n",
    "        @param history: The previous tagged tokens.\n",
    "        \"\"\"\n",
    "\n",
    "        word = tokens[index]\n",
    "        if index == 0: # At the beginning of the sentence\n",
    "            prevword = prevprevword = None\n",
    "            prevtag = prevprevtag = None\n",
    "            #word = word.lower() # Lowercase at the beginning of sentence\n",
    "        elif index == 1:\n",
    "            prevword = tokens[index-1] # Note: no lowercase\n",
    "            prevprevword = None\n",
    "            prevtag = history[index-1]\n",
    "            prevprevtag = None\n",
    "        else:\n",
    "            prevword = tokens[index-1]\n",
    "            prevprevword = tokens[index-2]\n",
    "            prevtag = history[index-1]\n",
    "            prevprevtag = history[index-2]\n",
    "\n",
    "        if re.match(r'[0-9]+([\\.,][0-9]*)?|[0-9]*[\\.,][0-9]+$', word):\n",
    "            # Included \",\" as decimal point\n",
    "            shape = 'number'\n",
    "        elif re.compile(r'\\W+$', re.UNICODE).match(word):\n",
    "            # Included unicode flag\n",
    "            shape = 'punct'\n",
    "        elif re.match(r'([A-ZÄÖÜ]+[a-zäöüß]*-?)+$', word):\n",
    "            # Included dash for dashed words and umlauts\n",
    "            shape = 'upcase'\n",
    "        elif re.match(r'[a-zäöüß]+', word):\n",
    "            # Included umlauts\n",
    "            shape = 'downcase'\n",
    "        elif re.compile(r\"\\w+\", re.UNICODE).match(word):\n",
    "            # Included unicode flag\n",
    "            shape = 'mixedcase'\n",
    "        else:\n",
    "            shape = 'other'\n",
    "\n",
    "        features = {\n",
    "            'prevtag': prevtag,\n",
    "            'prevprevtag': prevprevtag,\n",
    "            'word': word,\n",
    "            'word.lower': word.lower(),\n",
    "            'suffix3': word.lower()[-3:],\n",
    "            #'suffix2': word.lower()[-2:],\n",
    "            #'suffix1': word.lower()[-1:],\n",
    "            'preffix1': word[:1], # included\n",
    "            'prevprevword': prevprevword,\n",
    "            'prevword': prevword,\n",
    "            'prevtag+word': '%s+%s' % (prevtag, word),\n",
    "            'prevprevtag+word': '%s+%s' % (prevprevtag, word),\n",
    "            'prevword+word': '%s+%s' % (prevword, word),\n",
    "            'shape': shape\n",
    "            }\n",
    "        return features"
   ]
  },
  {
   "cell_type": "raw",
   "metadata": {},
   "source": [
    "corp = nltk.corpus.ConllCorpusReader('./nlp/', \n",
    "                                     'tiger_release_aug07.corrected.16012013.conll09',\n",
    "                                     ['words', 'pos', 'ignore','ignore','ignore'],\n",
    "                                     encoding='utf-8')"
   ]
  },
  {
   "cell_type": "raw",
   "metadata": {},
   "source": [
    "tagged_sents = list(corp.tagged_sents())\n",
    "random.shuffle(tagged_sents)"
   ]
  },
  {
   "cell_type": "raw",
   "metadata": {},
   "source": [
    "# set a split size: use 90% for training, 10% for testing\n",
    "split_perc = 0.1\n",
    "split_size = int(len(tagged_sents) * split_perc)\n",
    "train_sents, test_sents = tagged_sents[split_size:], tagged_sents[:split_size]"
   ]
  },
  {
   "cell_type": "raw",
   "metadata": {},
   "source": [
    "tiger_tagger = ClassifierBasedGermanTagger(train=train_sents)"
   ]
  },
  {
   "cell_type": "raw",
   "metadata": {},
   "source": [
    "accuracy = tiger_tagger.evaluate(test_sents)\n",
    "tiger_tagger.tag(['Das', 'ist', 'ein', 'einfacher', 'Test'])"
   ]
  },
  {
   "cell_type": "markdown",
   "metadata": {},
   "source": [
    "#### Training with all sentences"
   ]
  },
  {
   "cell_type": "raw",
   "metadata": {},
   "source": [
    "tiger_tagger = ClassifierBasedGermanTagger(train=tagged_sents)"
   ]
  },
  {
   "cell_type": "raw",
   "metadata": {},
   "source": [
    "with open('./nlp/nltk_german_classifier_data.pickle', 'wb') as f:\n",
    "    pickle.dump(tiger_tagger, f, protocol=2)"
   ]
  },
  {
   "cell_type": "code",
   "execution_count": 9,
   "metadata": {},
   "outputs": [],
   "source": [
    "with open('./nlp/nltk_german_classifier_data.pickle', 'rb') as f:\n",
    "    tiger_tagger = pickle.load(f)"
   ]
  },
  {
   "cell_type": "code",
   "execution_count": 10,
   "metadata": {},
   "outputs": [
    {
     "data": {
      "text/plain": [
       "('Das', 'ART')"
      ]
     },
     "execution_count": 10,
     "metadata": {},
     "output_type": "execute_result"
    }
   ],
   "source": [
    "tiger_tagger.tag(['Das'])[0]"
   ]
  },
  {
   "cell_type": "markdown",
   "metadata": {},
   "source": [
    "#### Strategy 1 for lemma - [Reading the Lemmata from the tiger sentence corpus](https://datascience.blog.wzb.eu/2016/07/13/accurate-part-of-speech-tagging-of-german-texts-with-nltk/)"
   ]
  },
  {
   "cell_type": "code",
   "execution_count": 11,
   "metadata": {},
   "outputs": [],
   "source": [
    "def read_lemmata_from_tiger_corpus(tiger_corpus_file, valid_cols_n=15, col_words=1, col_lemmata=2):\n",
    "    lemmata_mapping = {}\n",
    "\n",
    "    with open(tiger_corpus_file, encoding=\"utf8\") as f:\n",
    "        for line in f:\n",
    "            parts = line.split()\n",
    "            if len(parts) == valid_cols_n:\n",
    "                w, lemma = parts[col_words], parts[col_lemmata]\n",
    "                if w != lemma and w not in lemmata_mapping and not lemma.startswith('--'):\n",
    "                    lemmata_mapping[w] = lemma\n",
    "\n",
    "    return lemmata_mapping\n",
    "\n",
    "lemmata_mapping = read_lemmata_from_tiger_corpus('./nlp/tiger_release_aug07.corrected.16012013.conll09')"
   ]
  },
  {
   "cell_type": "code",
   "execution_count": 12,
   "metadata": {},
   "outputs": [
    {
     "data": {
      "text/plain": [
       "'nehmen'"
      ]
     },
     "execution_count": 12,
     "metadata": {},
     "output_type": "execute_result"
    }
   ],
   "source": [
    "lemmata_mapping['nahm']"
   ]
  },
  {
   "cell_type": "markdown",
   "metadata": {},
   "source": [
    "#### Strategy 2 for lemma - If we have the POS, we can use the [German Lemmatizer](https://github.com/WZBSocialScienceCenter/germalemma)  \n",
    "('N...' (nouns), 'V...' (verbs), 'ADJ...' (adjectives), 'ADV...' (adverbs)\n"
   ]
  },
  {
   "cell_type": "code",
   "execution_count": 13,
   "metadata": {},
   "outputs": [],
   "source": [
    "#https://github.com/WZBSocialScienceCenter/germalemma\n",
    "#https://datascience.blog.wzb.eu/2016/07/13/accurate-part-of-speech-tagging-of-german-texts-with-nltk/\n",
    "#https://datascience.blog.wzb.eu/2016/07/13/autocorrecting-misspelled-words-in-python-using-hunspell/\n",
    "from germalemma import GermaLemma\n",
    "\n",
    "# passing the word and the POS tag (\"N\" for noun)\n",
    "lemmatizer = GermaLemma()\n",
    "\n",
    "def germallema(word, pos):\n",
    "    pos = tiger_tagger.tag([word])[0][1]\n",
    "    lemma = lemmatizer.find_lemma(word, pos)\n",
    "    return(lemma)"
   ]
  },
  {
   "cell_type": "code",
   "execution_count": 14,
   "metadata": {},
   "outputs": [
    {
     "data": {
      "text/plain": [
       "'Arm'"
      ]
     },
     "execution_count": 14,
     "metadata": {},
     "output_type": "execute_result"
    }
   ],
   "source": [
    "germallema(\"Arme\", tiger_tagger.tag([\"Arme\"])[0][1])"
   ]
  },
  {
   "cell_type": "code",
   "execution_count": 15,
   "metadata": {},
   "outputs": [
    {
     "data": {
      "text/plain": [
       "'nehmen'"
      ]
     },
     "execution_count": 15,
     "metadata": {},
     "output_type": "execute_result"
    }
   ],
   "source": [
    "germallema(\"nahm\", tiger_tagger.tag([\"nahm\"])[0][1])"
   ]
  },
  {
   "cell_type": "code",
   "execution_count": 16,
   "metadata": {},
   "outputs": [
    {
     "data": {
      "text/plain": [
       "'wegbegeb'"
      ]
     },
     "execution_count": 16,
     "metadata": {},
     "output_type": "execute_result"
    }
   ],
   "source": [
    "germallema(\"wegbegeben\", tiger_tagger.tag([\"wegbegeben\"])[0][1])"
   ]
  },
  {
   "cell_type": "markdown",
   "metadata": {},
   "source": [
    "#### Strategy 4 - Using [hunspell](https://stackoverflow.com/questions/53029568/how-do-i-install-hunspell-python-package) for a fallback [option](https://datascience.blog.wzb.eu/2016/07/13/autocorrecting-misspelled-words-in-python-using-hunspell/)"
   ]
  },
  {
   "cell_type": "code",
   "execution_count": 17,
   "metadata": {},
   "outputs": [],
   "source": [
    "import hunspell\n",
    "\n",
    "spellchecker = hunspell.HunSpell('./nlp/de_DE.dic','./nlp/de_DE.aff')\n",
    "spellchecker_enc = spellchecker.get_dic_encoding()"
   ]
  },
  {
   "cell_type": "code",
   "execution_count": 18,
   "metadata": {},
   "outputs": [],
   "source": [
    "def hunspell_lemma(word):\n",
    "    try:\n",
    "        w_lemma = spellchecker.stem(word)[-1].decode(spellchecker_enc)\n",
    "        return(w_lemma)\n",
    "    except:\n",
    "        return(None)"
   ]
  },
  {
   "cell_type": "code",
   "execution_count": 19,
   "metadata": {},
   "outputs": [
    {
     "data": {
      "text/plain": [
       "'musst'"
      ]
     },
     "execution_count": 19,
     "metadata": {},
     "output_type": "execute_result"
    }
   ],
   "source": [
    "hunspell_lemma('musste')"
   ]
  },
  {
   "cell_type": "markdown",
   "metadata": {},
   "source": [
    "#### Using all the resources together:"
   ]
  },
  {
   "cell_type": "code",
   "execution_count": 20,
   "metadata": {},
   "outputs": [],
   "source": [
    "def robust_lemmatization(word):\n",
    "    lemma = None\n",
    "    try:\n",
    "        pos = tiger_tagger.tag([word])[0][1]\n",
    "        lemma = germallema(word, pos)\n",
    "    except:\n",
    "        pass\n",
    "    #if not lemma:\n",
    "    #    try:\n",
    "    #        lemma = hunspell_lemma(word)\n",
    "    #    except:\n",
    "    #        pass\n",
    "    if not lemma:\n",
    "        try:\n",
    "            lemma = lemmata_mapping[word]\n",
    "        except:\n",
    "            pass\n",
    "    if lemma:\n",
    "        return(lemma)\n",
    "    else:\n",
    "        return(word)\n",
    "    \n",
    "def lemmatize(word):\n",
    "    lemma = robust_lemmatization(word)\n",
    "    lemma = lemma.lower()\n",
    "    if word.lower() != lemma.lower():\n",
    "        changes[\"lemma: \"+word] = lemma\n",
    "        #print(\"Lemma: changed {} for {}\".format(word, lemma))\n",
    "    return(lemma)"
   ]
  },
  {
   "cell_type": "code",
   "execution_count": 21,
   "metadata": {},
   "outputs": [
    {
     "name": "stdout",
     "output_type": "stream",
     "text": [
      "Arm\n",
      "wegbegeb\n"
     ]
    }
   ],
   "source": [
    "print(robust_lemmatization(\"Arme\"))\n",
    "print(robust_lemmatization(\"wegbegeben\"))"
   ]
  },
  {
   "cell_type": "markdown",
   "metadata": {},
   "source": [
    "## 1 - Fragebogen"
   ]
  },
  {
   "cell_type": "markdown",
   "metadata": {},
   "source": [
    "#### Reading fragebogen information"
   ]
  },
  {
   "cell_type": "code",
   "execution_count": 22,
   "metadata": {},
   "outputs": [],
   "source": [
    "fragebogen = pd.read_csv('./csv/fragebogen.csv', names=[\"id\",\n",
    "                                                        \"nummer\", \n",
    "                                                        \"titel\", \n",
    "                                                        \"schlagwoerter\", \n",
    "                                                        \"erscheinungsjahr\",\n",
    "                                                        \"autoren\", \n",
    "                                                        \"originaldaten\",\n",
    "                                                        \"anmerkung\",\n",
    "                                                        \"freigabe\",\n",
    "                                                        \"checked\",\n",
    "                                                        \"wordleiste\",\n",
    "                                                        \"druck\",\n",
    "                                                        \"online\",\n",
    "                                                        \"publiziert\",\n",
    "                                                        \"fragebogen_typ_id\",])\n",
    "\n",
    "fragebogen.drop([\"id\",\"schlagwoerter\",\"erscheinungsjahr\",\"autoren\",\"originaldaten\",\"anmerkung\",\"freigabe\",\n",
    "                 \"checked\",\"wordleiste\",\"druck\",\"online\",\"publiziert\",\"fragebogen_typ_id\",], inplace=True, axis=1)\n",
    "\n",
    "fragebogen.set_index(\"nummer\", drop=True, inplace=True)"
   ]
  },
  {
   "cell_type": "code",
   "execution_count": 23,
   "metadata": {},
   "outputs": [
    {
     "name": "stdout",
     "output_type": "stream",
     "text": [
      "<class 'pandas.core.frame.DataFrame'>\n",
      "Index: 762 entries, 1 to ETir.28\n",
      "Data columns (total 1 columns):\n",
      "titel    762 non-null object\n",
      "dtypes: object(1)\n",
      "memory usage: 11.9+ KB\n"
     ]
    }
   ],
   "source": [
    "fragebogen.info()"
   ]
  },
  {
   "cell_type": "code",
   "execution_count": 24,
   "metadata": {},
   "outputs": [
    {
     "data": {
      "text/html": [
       "<div>\n",
       "<style scoped>\n",
       "    .dataframe tbody tr th:only-of-type {\n",
       "        vertical-align: middle;\n",
       "    }\n",
       "\n",
       "    .dataframe tbody tr th {\n",
       "        vertical-align: top;\n",
       "    }\n",
       "\n",
       "    .dataframe thead th {\n",
       "        text-align: right;\n",
       "    }\n",
       "</style>\n",
       "<table border=\"1\" class=\"dataframe\">\n",
       "  <thead>\n",
       "    <tr style=\"text-align: right;\">\n",
       "      <th></th>\n",
       "      <th>titel</th>\n",
       "    </tr>\n",
       "    <tr>\n",
       "      <th>nummer</th>\n",
       "      <th></th>\n",
       "    </tr>\n",
       "  </thead>\n",
       "  <tbody>\n",
       "    <tr>\n",
       "      <th>1</th>\n",
       "      <td>Fragebogen 1: Kopf (1)</td>\n",
       "    </tr>\n",
       "    <tr>\n",
       "      <th>2</th>\n",
       "      <td>Fragebogen 2: Die Osterwoche (1)</td>\n",
       "    </tr>\n",
       "    <tr>\n",
       "      <th>3</th>\n",
       "      <td>Fragebogen 3: Die Osterwoche (2)</td>\n",
       "    </tr>\n",
       "    <tr>\n",
       "      <th>4</th>\n",
       "      <td>Fragebogen 4: Kopf (2)</td>\n",
       "    </tr>\n",
       "    <tr>\n",
       "      <th>5</th>\n",
       "      <td>Fragebogen 5: Zeit zwischen Ostern und Fronlei...</td>\n",
       "    </tr>\n",
       "    <tr>\n",
       "      <th>6</th>\n",
       "      <td>Fragebogen 6: Menschl. Haar und Bart (= Kopf 3)</td>\n",
       "    </tr>\n",
       "    <tr>\n",
       "      <th>7</th>\n",
       "      <td>Fragebogen 7: Hochzeit (1)</td>\n",
       "    </tr>\n",
       "    <tr>\n",
       "      <th>8</th>\n",
       "      <td>Fragebogen 8: Hochzeit (2)</td>\n",
       "    </tr>\n",
       "    <tr>\n",
       "      <th>9</th>\n",
       "      <td>Fragebogen 9: Hochzeit (3)</td>\n",
       "    </tr>\n",
       "    <tr>\n",
       "      <th>10</th>\n",
       "      <td>Fragebogen 10: Hochzeit (4)</td>\n",
       "    </tr>\n",
       "    <tr>\n",
       "      <th>11</th>\n",
       "      <td>Fragebogen 11: Hochzeit (5)</td>\n",
       "    </tr>\n",
       "    <tr>\n",
       "      <th>12</th>\n",
       "      <td>Fragebogen 12: Nase, Ohr (Kopf 4)</td>\n",
       "    </tr>\n",
       "    <tr>\n",
       "      <th>13</th>\n",
       "      <td>Fragebogen 13: Auge (Kopf 5)</td>\n",
       "    </tr>\n",
       "    <tr>\n",
       "      <th>14</th>\n",
       "      <td>Fragebogen 14: Besiedelung, Flur (1)</td>\n",
       "    </tr>\n",
       "    <tr>\n",
       "      <th>15</th>\n",
       "      <td>Fragebogen 15: Besiedelung, Flur (2)</td>\n",
       "    </tr>\n",
       "    <tr>\n",
       "      <th>16</th>\n",
       "      <td>Fragebogen 16: Feld, Feldbestellung (1) (Allg.)</td>\n",
       "    </tr>\n",
       "    <tr>\n",
       "      <th>17</th>\n",
       "      <td>Fragebogen 17: Feld, Feldbestellung (2) (Allg.)</td>\n",
       "    </tr>\n",
       "    <tr>\n",
       "      <th>18</th>\n",
       "      <td>Fragebogen 18: Feld, Feldbestellung (3) (Allg.)</td>\n",
       "    </tr>\n",
       "    <tr>\n",
       "      <th>19</th>\n",
       "      <td>Fragebogen 19: Feld, Feldbestellung (4) (Allg.)</td>\n",
       "    </tr>\n",
       "    <tr>\n",
       "      <th>20</th>\n",
       "      <td>Fragebogen 20: Körper (Allgemeines) (1)</td>\n",
       "    </tr>\n",
       "    <tr>\n",
       "      <th>21</th>\n",
       "      <td>Fragebogen 21: Körper (Allgemeines) (2)</td>\n",
       "    </tr>\n",
       "    <tr>\n",
       "      <th>22</th>\n",
       "      <td>Fragebogen 22: Körper (Allgemeines) (3)</td>\n",
       "    </tr>\n",
       "    <tr>\n",
       "      <th>23</th>\n",
       "      <td>Fragebogen 23: Körper (Allgemeines) (4)</td>\n",
       "    </tr>\n",
       "    <tr>\n",
       "      <th>24</th>\n",
       "      <td>Fragebogen 24: Körperteile (5) (Allgemeines)</td>\n",
       "    </tr>\n",
       "    <tr>\n",
       "      <th>25</th>\n",
       "      <td>Fragebogen 25: Hautkrankheiten (1)</td>\n",
       "    </tr>\n",
       "    <tr>\n",
       "      <th>26</th>\n",
       "      <td>Fragebogen 26: Hautkrankheiten (2)</td>\n",
       "    </tr>\n",
       "    <tr>\n",
       "      <th>27</th>\n",
       "      <td>Fragebogen 27: Hautkrankheiten (3)</td>\n",
       "    </tr>\n",
       "    <tr>\n",
       "      <th>28</th>\n",
       "      <td>Fragebogen 28: Brotbacken (1)</td>\n",
       "    </tr>\n",
       "    <tr>\n",
       "      <th>29</th>\n",
       "      <td>Fragebogen 29: Brotbacken (2)</td>\n",
       "    </tr>\n",
       "    <tr>\n",
       "      <th>30</th>\n",
       "      <td>Fragebogen 30: Brotbacken (3)</td>\n",
       "    </tr>\n",
       "    <tr>\n",
       "      <th>31</th>\n",
       "      <td>Fragebogen 31: Weißgebäck</td>\n",
       "    </tr>\n",
       "    <tr>\n",
       "      <th>32</th>\n",
       "      <td>Fragebogen 32: Gliedmaßen, Arm</td>\n",
       "    </tr>\n",
       "    <tr>\n",
       "      <th>33</th>\n",
       "      <td>Fragebogen 33: Arm (Schluß), Hand</td>\n",
       "    </tr>\n",
       "    <tr>\n",
       "      <th>34</th>\n",
       "      <td>Fragebogen 34: Hand (Schluß), Finger</td>\n",
       "    </tr>\n",
       "    <tr>\n",
       "      <th>35</th>\n",
       "      <td>Fragebogen 35: Finger (Schluß)</td>\n",
       "    </tr>\n",
       "    <tr>\n",
       "      <th>36</th>\n",
       "      <td>Fragebogen 36: Schneiderei (1)</td>\n",
       "    </tr>\n",
       "    <tr>\n",
       "      <th>37</th>\n",
       "      <td>Fragebogen 37: Schneiderei (2)</td>\n",
       "    </tr>\n",
       "    <tr>\n",
       "      <th>38</th>\n",
       "      <td>Fragebogen 38: Schneiderei (3)</td>\n",
       "    </tr>\n",
       "    <tr>\n",
       "      <th>39</th>\n",
       "      <td>Fragebogen 39: Schneiderei (4)</td>\n",
       "    </tr>\n",
       "    <tr>\n",
       "      <th>40</th>\n",
       "      <td>Fragebogen 40: Kleidung (1)</td>\n",
       "    </tr>\n",
       "  </tbody>\n",
       "</table>\n",
       "</div>"
      ],
      "text/plain": [
       "                                                    titel\n",
       "nummer                                                   \n",
       "1                                  Fragebogen 1: Kopf (1)\n",
       "2                        Fragebogen 2: Die Osterwoche (1)\n",
       "3                        Fragebogen 3: Die Osterwoche (2)\n",
       "4                                  Fragebogen 4: Kopf (2)\n",
       "5       Fragebogen 5: Zeit zwischen Ostern und Fronlei...\n",
       "6         Fragebogen 6: Menschl. Haar und Bart (= Kopf 3)\n",
       "7                              Fragebogen 7: Hochzeit (1)\n",
       "8                              Fragebogen 8: Hochzeit (2)\n",
       "9                              Fragebogen 9: Hochzeit (3)\n",
       "10                            Fragebogen 10: Hochzeit (4)\n",
       "11                            Fragebogen 11: Hochzeit (5)\n",
       "12                      Fragebogen 12: Nase, Ohr (Kopf 4)\n",
       "13                           Fragebogen 13: Auge (Kopf 5)\n",
       "14                   Fragebogen 14: Besiedelung, Flur (1)\n",
       "15                   Fragebogen 15: Besiedelung, Flur (2)\n",
       "16        Fragebogen 16: Feld, Feldbestellung (1) (Allg.)\n",
       "17        Fragebogen 17: Feld, Feldbestellung (2) (Allg.)\n",
       "18        Fragebogen 18: Feld, Feldbestellung (3) (Allg.)\n",
       "19        Fragebogen 19: Feld, Feldbestellung (4) (Allg.)\n",
       "20                Fragebogen 20: Körper (Allgemeines) (1)\n",
       "21                Fragebogen 21: Körper (Allgemeines) (2)\n",
       "22                Fragebogen 22: Körper (Allgemeines) (3)\n",
       "23                Fragebogen 23: Körper (Allgemeines) (4)\n",
       "24           Fragebogen 24: Körperteile (5) (Allgemeines)\n",
       "25                     Fragebogen 25: Hautkrankheiten (1)\n",
       "26                     Fragebogen 26: Hautkrankheiten (2)\n",
       "27                     Fragebogen 27: Hautkrankheiten (3)\n",
       "28                          Fragebogen 28: Brotbacken (1)\n",
       "29                          Fragebogen 29: Brotbacken (2)\n",
       "30                          Fragebogen 30: Brotbacken (3)\n",
       "31                              Fragebogen 31: Weißgebäck\n",
       "32                         Fragebogen 32: Gliedmaßen, Arm\n",
       "33                      Fragebogen 33: Arm (Schluß), Hand\n",
       "34                   Fragebogen 34: Hand (Schluß), Finger\n",
       "35                         Fragebogen 35: Finger (Schluß)\n",
       "36                         Fragebogen 36: Schneiderei (1)\n",
       "37                         Fragebogen 37: Schneiderei (2)\n",
       "38                         Fragebogen 38: Schneiderei (3)\n",
       "39                         Fragebogen 39: Schneiderei (4)\n",
       "40                            Fragebogen 40: Kleidung (1)"
      ]
     },
     "execution_count": 24,
     "metadata": {},
     "output_type": "execute_result"
    }
   ],
   "source": [
    "fragebogen.head(40)"
   ]
  },
  {
   "cell_type": "markdown",
   "metadata": {},
   "source": [
    "#### Filtering the original fragebogen from the CSV file"
   ]
  },
  {
   "cell_type": "code",
   "execution_count": 25,
   "metadata": {},
   "outputs": [
    {
     "data": {
      "text/html": [
       "<div>\n",
       "<style scoped>\n",
       "    .dataframe tbody tr th:only-of-type {\n",
       "        vertical-align: middle;\n",
       "    }\n",
       "\n",
       "    .dataframe tbody tr th {\n",
       "        vertical-align: top;\n",
       "    }\n",
       "\n",
       "    .dataframe thead th {\n",
       "        text-align: right;\n",
       "    }\n",
       "</style>\n",
       "<table border=\"1\" class=\"dataframe\">\n",
       "  <thead>\n",
       "    <tr style=\"text-align: right;\">\n",
       "      <th></th>\n",
       "      <th>titel</th>\n",
       "    </tr>\n",
       "    <tr>\n",
       "      <th>nummer</th>\n",
       "      <th></th>\n",
       "    </tr>\n",
       "  </thead>\n",
       "  <tbody>\n",
       "    <tr>\n",
       "      <th>ETir.24</th>\n",
       "      <td>24. Ergänzungsfragebogen zum Tiroler Fragebuch</td>\n",
       "    </tr>\n",
       "    <tr>\n",
       "      <th>ETir.25</th>\n",
       "      <td>25. Ergänzungsfragebogen zum Tiroler Fragebuch</td>\n",
       "    </tr>\n",
       "    <tr>\n",
       "      <th>ETir.26</th>\n",
       "      <td>26. Ergänzungsfragebogen zum Tiroler Fragebuch</td>\n",
       "    </tr>\n",
       "    <tr>\n",
       "      <th>ETir.27</th>\n",
       "      <td>27. Ergänzungsfragebogen zum Tiroler Fragebuch</td>\n",
       "    </tr>\n",
       "    <tr>\n",
       "      <th>ETir.28</th>\n",
       "      <td>28. Ergänzungsfragebogen zum Tiroler Fragebuch</td>\n",
       "    </tr>\n",
       "  </tbody>\n",
       "</table>\n",
       "</div>"
      ],
      "text/plain": [
       "                                                  titel\n",
       "nummer                                                 \n",
       "ETir.24  24. Ergänzungsfragebogen zum Tiroler Fragebuch\n",
       "ETir.25  25. Ergänzungsfragebogen zum Tiroler Fragebuch\n",
       "ETir.26  26. Ergänzungsfragebogen zum Tiroler Fragebuch\n",
       "ETir.27  27. Ergänzungsfragebogen zum Tiroler Fragebuch\n",
       "ETir.28  28. Ergänzungsfragebogen zum Tiroler Fragebuch"
      ]
     },
     "execution_count": 25,
     "metadata": {},
     "output_type": "execute_result"
    }
   ],
   "source": [
    "fragebogen.tail()"
   ]
  },
  {
   "cell_type": "code",
   "execution_count": 26,
   "metadata": {},
   "outputs": [
    {
     "data": {
      "text/html": [
       "<div>\n",
       "<style scoped>\n",
       "    .dataframe tbody tr th:only-of-type {\n",
       "        vertical-align: middle;\n",
       "    }\n",
       "\n",
       "    .dataframe tbody tr th {\n",
       "        vertical-align: top;\n",
       "    }\n",
       "\n",
       "    .dataframe thead th {\n",
       "        text-align: right;\n",
       "    }\n",
       "</style>\n",
       "<table border=\"1\" class=\"dataframe\">\n",
       "  <thead>\n",
       "    <tr style=\"text-align: right;\">\n",
       "      <th></th>\n",
       "      <th>titel</th>\n",
       "    </tr>\n",
       "    <tr>\n",
       "      <th>nummer</th>\n",
       "      <th></th>\n",
       "    </tr>\n",
       "  </thead>\n",
       "  <tbody>\n",
       "    <tr>\n",
       "      <th>105</th>\n",
       "      <td>Fragebogen 105: Verkehr</td>\n",
       "    </tr>\n",
       "    <tr>\n",
       "      <th>106</th>\n",
       "      <td>Fragebogen 106: Wasser</td>\n",
       "    </tr>\n",
       "    <tr>\n",
       "      <th>107</th>\n",
       "      <td>Fragebogen 107: Gewerbe</td>\n",
       "    </tr>\n",
       "    <tr>\n",
       "      <th>108</th>\n",
       "      <td>Fragebogen 108: Gewerbe</td>\n",
       "    </tr>\n",
       "    <tr>\n",
       "      <th>109</th>\n",
       "      <td>Fragebogen 109: Gewerbe</td>\n",
       "    </tr>\n",
       "  </tbody>\n",
       "</table>\n",
       "</div>"
      ],
      "text/plain": [
       "                          titel\n",
       "nummer                         \n",
       "105     Fragebogen 105: Verkehr\n",
       "106      Fragebogen 106: Wasser\n",
       "107     Fragebogen 107: Gewerbe\n",
       "108     Fragebogen 108: Gewerbe\n",
       "109     Fragebogen 109: Gewerbe"
      ]
     },
     "execution_count": 26,
     "metadata": {},
     "output_type": "execute_result"
    }
   ],
   "source": [
    "fragebogen[fragebogen.titel.str.startswith('Fragebogen')].tail()"
   ]
  },
  {
   "cell_type": "code",
   "execution_count": 27,
   "metadata": {},
   "outputs": [],
   "source": [
    "fb_original = fragebogen[fragebogen.titel.str.startswith('Fragebogen')]"
   ]
  },
  {
   "cell_type": "markdown",
   "metadata": {},
   "source": [
    "#### Extracting information from the fragebogen titel"
   ]
  },
  {
   "cell_type": "code",
   "execution_count": 28,
   "metadata": {},
   "outputs": [
    {
     "data": {
      "text/html": [
       "<div>\n",
       "<style scoped>\n",
       "    .dataframe tbody tr th:only-of-type {\n",
       "        vertical-align: middle;\n",
       "    }\n",
       "\n",
       "    .dataframe tbody tr th {\n",
       "        vertical-align: top;\n",
       "    }\n",
       "\n",
       "    .dataframe thead th {\n",
       "        text-align: right;\n",
       "    }\n",
       "</style>\n",
       "<table border=\"1\" class=\"dataframe\">\n",
       "  <thead>\n",
       "    <tr style=\"text-align: right;\">\n",
       "      <th></th>\n",
       "      <th>0</th>\n",
       "      <th>1</th>\n",
       "      <th>2</th>\n",
       "      <th>3</th>\n",
       "    </tr>\n",
       "    <tr>\n",
       "      <th>nummer</th>\n",
       "      <th></th>\n",
       "      <th></th>\n",
       "      <th></th>\n",
       "      <th></th>\n",
       "    </tr>\n",
       "  </thead>\n",
       "  <tbody>\n",
       "    <tr>\n",
       "      <th>1</th>\n",
       "      <td>Fragebogen</td>\n",
       "      <td>1</td>\n",
       "      <td>Kopf</td>\n",
       "      <td>(1)</td>\n",
       "    </tr>\n",
       "    <tr>\n",
       "      <th>2</th>\n",
       "      <td>Fragebogen</td>\n",
       "      <td>2</td>\n",
       "      <td>Die Osterwoche</td>\n",
       "      <td>(1)</td>\n",
       "    </tr>\n",
       "    <tr>\n",
       "      <th>3</th>\n",
       "      <td>Fragebogen</td>\n",
       "      <td>3</td>\n",
       "      <td>Die Osterwoche</td>\n",
       "      <td>(2)</td>\n",
       "    </tr>\n",
       "    <tr>\n",
       "      <th>4</th>\n",
       "      <td>Fragebogen</td>\n",
       "      <td>4</td>\n",
       "      <td>Kopf</td>\n",
       "      <td>(2)</td>\n",
       "    </tr>\n",
       "    <tr>\n",
       "      <th>5</th>\n",
       "      <td>Fragebogen</td>\n",
       "      <td>5</td>\n",
       "      <td>Zeit zwischen Ostern und Fronleichnam</td>\n",
       "      <td></td>\n",
       "    </tr>\n",
       "  </tbody>\n",
       "</table>\n",
       "</div>"
      ],
      "text/plain": [
       "                 0  1                                       2    3\n",
       "nummer                                                            \n",
       "1       Fragebogen  1                                   Kopf   (1)\n",
       "2       Fragebogen  2                         Die Osterwoche   (1)\n",
       "3       Fragebogen  3                         Die Osterwoche   (2)\n",
       "4       Fragebogen  4                                   Kopf   (2)\n",
       "5       Fragebogen  5   Zeit zwischen Ostern und Fronleichnam     "
      ]
     },
     "execution_count": 28,
     "metadata": {},
     "output_type": "execute_result"
    }
   ],
   "source": [
    "regex1 = r'([Fragebon]+)\\s{1}([0-9]+)[:]{1}([,A-ZÄÖÜa-zäöüß0-9.\\s]+)[,\\s]*([=\\-\\(\\)\\sA-ZÄÖÜa-zäöüß0-9]*)'\n",
    "\n",
    "fb_original.titel.str.extract(regex1).head()\n",
    "#fb_original.titel.str.extract(regex1).tail()"
   ]
  },
  {
   "cell_type": "code",
   "execution_count": 29,
   "metadata": {},
   "outputs": [],
   "source": [
    "fb_original.loc[:,'number'] = fb_original.titel.str.extract(regex1)[1].str.strip()\n",
    "fb_original.loc[:,'headwords'] = fb_original.titel.str.extract(regex1)[2].str.strip()\n",
    "fb_original.loc[:,'series'] = fb_original.titel.str.extract(regex1)[3].str.strip()"
   ]
  },
  {
   "cell_type": "code",
   "execution_count": 30,
   "metadata": {},
   "outputs": [
    {
     "data": {
      "text/html": [
       "<div>\n",
       "<style scoped>\n",
       "    .dataframe tbody tr th:only-of-type {\n",
       "        vertical-align: middle;\n",
       "    }\n",
       "\n",
       "    .dataframe tbody tr th {\n",
       "        vertical-align: top;\n",
       "    }\n",
       "\n",
       "    .dataframe thead th {\n",
       "        text-align: right;\n",
       "    }\n",
       "</style>\n",
       "<table border=\"1\" class=\"dataframe\">\n",
       "  <thead>\n",
       "    <tr style=\"text-align: right;\">\n",
       "      <th></th>\n",
       "      <th>titel</th>\n",
       "      <th>number</th>\n",
       "      <th>headwords</th>\n",
       "      <th>series</th>\n",
       "    </tr>\n",
       "    <tr>\n",
       "      <th>nummer</th>\n",
       "      <th></th>\n",
       "      <th></th>\n",
       "      <th></th>\n",
       "      <th></th>\n",
       "    </tr>\n",
       "  </thead>\n",
       "  <tbody>\n",
       "    <tr>\n",
       "      <th>1</th>\n",
       "      <td>Fragebogen 1: Kopf (1)</td>\n",
       "      <td>1</td>\n",
       "      <td>Kopf</td>\n",
       "      <td>(1)</td>\n",
       "    </tr>\n",
       "    <tr>\n",
       "      <th>2</th>\n",
       "      <td>Fragebogen 2: Die Osterwoche (1)</td>\n",
       "      <td>2</td>\n",
       "      <td>Die Osterwoche</td>\n",
       "      <td>(1)</td>\n",
       "    </tr>\n",
       "    <tr>\n",
       "      <th>3</th>\n",
       "      <td>Fragebogen 3: Die Osterwoche (2)</td>\n",
       "      <td>3</td>\n",
       "      <td>Die Osterwoche</td>\n",
       "      <td>(2)</td>\n",
       "    </tr>\n",
       "    <tr>\n",
       "      <th>4</th>\n",
       "      <td>Fragebogen 4: Kopf (2)</td>\n",
       "      <td>4</td>\n",
       "      <td>Kopf</td>\n",
       "      <td>(2)</td>\n",
       "    </tr>\n",
       "    <tr>\n",
       "      <th>5</th>\n",
       "      <td>Fragebogen 5: Zeit zwischen Ostern und Fronlei...</td>\n",
       "      <td>5</td>\n",
       "      <td>Zeit zwischen Ostern und Fronleichnam</td>\n",
       "      <td></td>\n",
       "    </tr>\n",
       "  </tbody>\n",
       "</table>\n",
       "</div>"
      ],
      "text/plain": [
       "                                                    titel number  \\\n",
       "nummer                                                             \n",
       "1                                  Fragebogen 1: Kopf (1)      1   \n",
       "2                        Fragebogen 2: Die Osterwoche (1)      2   \n",
       "3                        Fragebogen 3: Die Osterwoche (2)      3   \n",
       "4                                  Fragebogen 4: Kopf (2)      4   \n",
       "5       Fragebogen 5: Zeit zwischen Ostern und Fronlei...      5   \n",
       "\n",
       "                                    headwords series  \n",
       "nummer                                                \n",
       "1                                        Kopf    (1)  \n",
       "2                              Die Osterwoche    (1)  \n",
       "3                              Die Osterwoche    (2)  \n",
       "4                                        Kopf    (2)  \n",
       "5       Zeit zwischen Ostern und Fronleichnam         "
      ]
     },
     "execution_count": 30,
     "metadata": {},
     "output_type": "execute_result"
    }
   ],
   "source": [
    "fb_original.head()"
   ]
  },
  {
   "cell_type": "markdown",
   "metadata": {},
   "source": [
    "#### Expanding abbreviations, tokenizing, eliminating stopwords and lemmatizing"
   ]
  },
  {
   "cell_type": "code",
   "execution_count": 31,
   "metadata": {},
   "outputs": [],
   "source": [
    "my_stopwords = set(stopwords.words('german')).union(set([\"i\", \"ii\", 'e', 'n']))"
   ]
  },
  {
   "cell_type": "code",
   "execution_count": 32,
   "metadata": {},
   "outputs": [],
   "source": [
    "#https://stackoverflow.com/questions/35231285/python-how-to-split-a-string-by-non-alpha-characters\n",
    "\n",
    "def expand_tokenize_clean_lemmatize(input_text):\n",
    "    output = re.sub(r'/',  ' ', input_text)\n",
    "    output = re.sub(r'\\(',  ' ', output)\n",
    "    output = re.sub(r'\\)',  ' ', output)\n",
    "    output = expand_abbreviations(output)\n",
    "    output = re.findall(r'\\w+', output)\n",
    "    output = [elem.strip(string.punctuation) for elem in output]\n",
    "    output = [lemmatize(elem) for elem in output]\n",
    "    output = [elem.lower() for elem in output if (elem.lower() not in my_stopwords)]\n",
    "    output = [elem for elem in output if not elem.isnumeric()]\n",
    "    output = list(set(output))\n",
    "    #print(input_text, \" ---> \", output)\n",
    "    return output"
   ]
  },
  {
   "cell_type": "code",
   "execution_count": 33,
   "metadata": {},
   "outputs": [],
   "source": [
    "changes = {}\n",
    "fb_original['headwords_list'] = fb_original.headwords.apply(expand_tokenize_clean_lemmatize)\n",
    "\n",
    "#for key, value in sorted(changes.items()):\n",
    "#    print(key, \"----> \", value)"
   ]
  },
  {
   "cell_type": "code",
   "execution_count": 34,
   "metadata": {},
   "outputs": [
    {
     "data": {
      "text/html": [
       "<div>\n",
       "<style scoped>\n",
       "    .dataframe tbody tr th:only-of-type {\n",
       "        vertical-align: middle;\n",
       "    }\n",
       "\n",
       "    .dataframe tbody tr th {\n",
       "        vertical-align: top;\n",
       "    }\n",
       "\n",
       "    .dataframe thead th {\n",
       "        text-align: right;\n",
       "    }\n",
       "</style>\n",
       "<table border=\"1\" class=\"dataframe\">\n",
       "  <thead>\n",
       "    <tr style=\"text-align: right;\">\n",
       "      <th></th>\n",
       "      <th>titel</th>\n",
       "      <th>number</th>\n",
       "      <th>headwords</th>\n",
       "      <th>series</th>\n",
       "      <th>headwords_list</th>\n",
       "    </tr>\n",
       "    <tr>\n",
       "      <th>nummer</th>\n",
       "      <th></th>\n",
       "      <th></th>\n",
       "      <th></th>\n",
       "      <th></th>\n",
       "      <th></th>\n",
       "    </tr>\n",
       "  </thead>\n",
       "  <tbody>\n",
       "    <tr>\n",
       "      <th>1</th>\n",
       "      <td>Fragebogen 1: Kopf (1)</td>\n",
       "      <td>1</td>\n",
       "      <td>Kopf</td>\n",
       "      <td>(1)</td>\n",
       "      <td>[kopf]</td>\n",
       "    </tr>\n",
       "    <tr>\n",
       "      <th>2</th>\n",
       "      <td>Fragebogen 2: Die Osterwoche (1)</td>\n",
       "      <td>2</td>\n",
       "      <td>Die Osterwoche</td>\n",
       "      <td>(1)</td>\n",
       "      <td>[osterwoche]</td>\n",
       "    </tr>\n",
       "    <tr>\n",
       "      <th>3</th>\n",
       "      <td>Fragebogen 3: Die Osterwoche (2)</td>\n",
       "      <td>3</td>\n",
       "      <td>Die Osterwoche</td>\n",
       "      <td>(2)</td>\n",
       "      <td>[osterwoche]</td>\n",
       "    </tr>\n",
       "    <tr>\n",
       "      <th>4</th>\n",
       "      <td>Fragebogen 4: Kopf (2)</td>\n",
       "      <td>4</td>\n",
       "      <td>Kopf</td>\n",
       "      <td>(2)</td>\n",
       "      <td>[kopf]</td>\n",
       "    </tr>\n",
       "    <tr>\n",
       "      <th>5</th>\n",
       "      <td>Fragebogen 5: Zeit zwischen Ostern und Fronlei...</td>\n",
       "      <td>5</td>\n",
       "      <td>Zeit zwischen Ostern und Fronleichnam</td>\n",
       "      <td></td>\n",
       "      <td>[fronleichnam, zeit, ostern]</td>\n",
       "    </tr>\n",
       "    <tr>\n",
       "      <th>6</th>\n",
       "      <td>Fragebogen 6: Menschl. Haar und Bart (= Kopf 3)</td>\n",
       "      <td>6</td>\n",
       "      <td>Menschl. Haar und Bart</td>\n",
       "      <td>(= Kopf 3)</td>\n",
       "      <td>[haar, bart, menschl]</td>\n",
       "    </tr>\n",
       "    <tr>\n",
       "      <th>7</th>\n",
       "      <td>Fragebogen 7: Hochzeit (1)</td>\n",
       "      <td>7</td>\n",
       "      <td>Hochzeit</td>\n",
       "      <td>(1)</td>\n",
       "      <td>[hochzeit]</td>\n",
       "    </tr>\n",
       "    <tr>\n",
       "      <th>8</th>\n",
       "      <td>Fragebogen 8: Hochzeit (2)</td>\n",
       "      <td>8</td>\n",
       "      <td>Hochzeit</td>\n",
       "      <td>(2)</td>\n",
       "      <td>[hochzeit]</td>\n",
       "    </tr>\n",
       "    <tr>\n",
       "      <th>9</th>\n",
       "      <td>Fragebogen 9: Hochzeit (3)</td>\n",
       "      <td>9</td>\n",
       "      <td>Hochzeit</td>\n",
       "      <td>(3)</td>\n",
       "      <td>[hochzeit]</td>\n",
       "    </tr>\n",
       "    <tr>\n",
       "      <th>10</th>\n",
       "      <td>Fragebogen 10: Hochzeit (4)</td>\n",
       "      <td>10</td>\n",
       "      <td>Hochzeit</td>\n",
       "      <td>(4)</td>\n",
       "      <td>[hochzeit]</td>\n",
       "    </tr>\n",
       "  </tbody>\n",
       "</table>\n",
       "</div>"
      ],
      "text/plain": [
       "                                                    titel number  \\\n",
       "nummer                                                             \n",
       "1                                  Fragebogen 1: Kopf (1)      1   \n",
       "2                        Fragebogen 2: Die Osterwoche (1)      2   \n",
       "3                        Fragebogen 3: Die Osterwoche (2)      3   \n",
       "4                                  Fragebogen 4: Kopf (2)      4   \n",
       "5       Fragebogen 5: Zeit zwischen Ostern und Fronlei...      5   \n",
       "6         Fragebogen 6: Menschl. Haar und Bart (= Kopf 3)      6   \n",
       "7                              Fragebogen 7: Hochzeit (1)      7   \n",
       "8                              Fragebogen 8: Hochzeit (2)      8   \n",
       "9                              Fragebogen 9: Hochzeit (3)      9   \n",
       "10                            Fragebogen 10: Hochzeit (4)     10   \n",
       "\n",
       "                                    headwords      series  \\\n",
       "nummer                                                      \n",
       "1                                        Kopf         (1)   \n",
       "2                              Die Osterwoche         (1)   \n",
       "3                              Die Osterwoche         (2)   \n",
       "4                                        Kopf         (2)   \n",
       "5       Zeit zwischen Ostern und Fronleichnam               \n",
       "6                      Menschl. Haar und Bart  (= Kopf 3)   \n",
       "7                                    Hochzeit         (1)   \n",
       "8                                    Hochzeit         (2)   \n",
       "9                                    Hochzeit         (3)   \n",
       "10                                   Hochzeit         (4)   \n",
       "\n",
       "                      headwords_list  \n",
       "nummer                                \n",
       "1                             [kopf]  \n",
       "2                       [osterwoche]  \n",
       "3                       [osterwoche]  \n",
       "4                             [kopf]  \n",
       "5       [fronleichnam, zeit, ostern]  \n",
       "6              [haar, bart, menschl]  \n",
       "7                         [hochzeit]  \n",
       "8                         [hochzeit]  \n",
       "9                         [hochzeit]  \n",
       "10                        [hochzeit]  "
      ]
     },
     "execution_count": 34,
     "metadata": {},
     "output_type": "execute_result"
    }
   ],
   "source": [
    "fb_original.head(10)"
   ]
  },
  {
   "cell_type": "code",
   "execution_count": 35,
   "metadata": {},
   "outputs": [
    {
     "name": "stdout",
     "output_type": "stream",
     "text": [
      "['1' '2' '3' '4' '5' '6' '7' '8' '9' '10' '11' '12' '13' '14' '15' '16'\n",
      " '17' '18' '19' '20' '21' '22' '23' '24' '25' '26' '27' '28' '29' '30'\n",
      " '31' '32' '33' '34' '35' '36' '37' '38' '39' '40' '41' '42' '43' '44'\n",
      " '45' '46' '47' '48' '49' '50' '51' '52' '53' '54' '55' '56' '57' '58'\n",
      " '59' '60' '61' '62' '63' '64' '65' '66' '67' '68' '69' '70' '71' '72'\n",
      " '73' '74' '75' '76' '77' '78' '79' '80' '81' '82' '83' '84' '85' '86'\n",
      " '87' '88' '89' '90' '91' '92' '93' '94' '95' '96' '97' '98' '99' '100'\n",
      " '101' '102' '103' '104' '105' '106' '107' '108' '109']\n",
      "\n",
      "['Kopf' 'Die Osterwoche' 'Zeit zwischen Ostern und Fronleichnam'\n",
      " 'Menschl. Haar und Bart' 'Hochzeit' 'Nase, Ohr' 'Auge'\n",
      " 'Besiedelung, Flur' 'Feld, Feldbestellung' 'Körper' 'Körperteile'\n",
      " 'Hautkrankheiten' 'Brotbacken' 'Weißgebäck' 'Gliedmaßen, Arm' 'Arm'\n",
      " 'Hand' 'Finger' 'Schneiderei' 'Kleidung' 'Bewegung' 'Farbe'\n",
      " 'Zeit zwischen Mittsommer und Neujahr' 'Tod'\n",
      " 'Gruß, Wunsch, Bitte und Dank' 'Jagd' 'Wald und Forstwirtschaft' 'Tiere'\n",
      " 'Kind, Kinderstube und Taufe' 'Rindviehzucht und Milchwirtschaft'\n",
      " 'Maurerhandwerk und Binderei' 'Weinbau' 'Geburt und Wochenbett' 'Zeit'\n",
      " 'Schweinezucht' 'I. Schafzucht, II. Ziege' 'Imkerei'\n",
      " 'Zeit zwischen Neujahr und Ostern' 'Schiffahrt' 'Hund und Katze'\n",
      " 'Geflügel' 'Das Pferd' 'Wiese und Heuarbeit' 'Fuhrwerke'\n",
      " 'Sprechen und Sprache' 'Himmel, Gestirne, Witterung' 'Der Schuster'\n",
      " 'Die Pflanzenwelt unserer Fluren' 'Gartenbau'\n",
      " 'Blutsverwandtschaft, Altersstufen'\n",
      " 'Geselligkeit, Freundschaft und Liebe' 'Religion und Kirche'\n",
      " 'Mythologisches' 'Schule und Unterricht' 'Der Bauernhof'\n",
      " 'Feuer und Wärme' 'Licht' 'Weibliche Arbeiten' 'Essen und Trinken'\n",
      " 'Eßzeug, Waage, Gewichte und Maße' 'Speisen und Getränke'\n",
      " 'Die Feldfrüchte, ihr Anbau, ihr Wachstum und ihre Ernte' 'Bierbrauerei'\n",
      " 'Hanf und Flachs und ihre Verwertung' 'Sehen, hören, fühlen'\n",
      " '1. Erdoberfläche' 'Verkehr' 'Wasser' 'Gewerbe']\n",
      "\n",
      "{'imkerei', 'getränke', 'hund', 'kinderstube', 'heuarbeit', 'nase', 'maurerhandwerk', 'verwertung', 'binderei', 'geburt', 'ziege', 'tod', 'ostern', 'wald', 'rindviehzucht', 'hochzeit', 'osterwoche', 'bewegung', 'geflügel', 'blutsverwandtschaft', 'feld', 'gewerbe', 'kopf', 'schiffahrt', 'schafzucht', 'freundschaft', 'gestirne', 'religion', 'arm', 'schneiderei', 'kirche', 'hautkrankheit', 'waage', 'zeit', 'kleidung', 'wachstum', 'hören', 'gartenbau', 'altersstufen', 'bauernhof', 'essen', 'katze', 'bitte', 'gliedmaß', 'haar', 'jagd', 'ernte', 'fühlen', 'wiese', 'bart', 'mittsommer', 'milchwirtschaft', 'feldbestellung', 'feuer', 'sprechen', 'schuster', 'ohr', 'gruß', 'witterung', 'wasser', 'trinken', 'pflanzenwelt', 'sprache', 'menschl', 'fluren', 'arbeit', 'taufe', 'flur', 'hanf', 'flachs', 'maß', 'eßzeug', 'liebe', 'pferd', 'hand', 'wärme', 'körperteil', 'weiblich', 'forstwirtschaft', 'besiedelung', 'bierbrauerei', 'neujahr', 'sehen', 'wunsch', 'fronleichnam', 'gewicht', 'himmel', 'finger', 'wochenbett', 'geselligkeit', 'auge', 'anbau', 'feldfrucht', 'körper', 'tier', 'weinbau', 'farbe', 'dank', 'verkehr', 'fuhrwerke', 'schule', 'schweinezucht', 'speisen', 'licht', 'erdoberfläche', 'unterricht', 'weißgebäck', 'mythologisches', 'kind', 'brotbacken'}\n",
      "\n",
      "['(1)' '(2)' '' '(= Kopf 3)' '(3)' '(4)' '(5)' '(Kopf 4)' '(Kopf 5)'\n",
      " '(1) (Allg' '(2) (Allg' '(3) (Allg' '(4) (Allg' '(Allgemeines) (1)'\n",
      " '(Allgemeines) (2)' '(Allgemeines) (3)' '(Allgemeines) (4)'\n",
      " '(5) (Allgemeines)' '(Schluß)'\n",
      " '(2) - Frauenkleidung (Ergänzung von Frageb' '(6)' '(7)' '(8)' '(9)'\n",
      " '(10)' '(11)' '(Fortsetzung)'\n",
      " '(A) - Landwirtschaftliche Geräte und Werkzeuge (B)'\n",
      " '(A-F) - Alpenpflanzen (G)' '(A-F) - 2']\n"
     ]
    }
   ],
   "source": [
    "#print(fb_original.index)\n",
    "print(fb_original.number.unique())\n",
    "print()\n",
    "print(fb_original.headwords.unique())\n",
    "print()\n",
    "print(set(fb_original.headwords_list.sum()))\n",
    "print()\n",
    "print(fb_original.series.unique())"
   ]
  },
  {
   "cell_type": "code",
   "execution_count": 36,
   "metadata": {},
   "outputs": [
    {
     "data": {
      "text/html": [
       "<div>\n",
       "<style scoped>\n",
       "    .dataframe tbody tr th:only-of-type {\n",
       "        vertical-align: middle;\n",
       "    }\n",
       "\n",
       "    .dataframe tbody tr th {\n",
       "        vertical-align: top;\n",
       "    }\n",
       "\n",
       "    .dataframe thead th {\n",
       "        text-align: right;\n",
       "    }\n",
       "</style>\n",
       "<table border=\"1\" class=\"dataframe\">\n",
       "  <thead>\n",
       "    <tr style=\"text-align: right;\">\n",
       "      <th></th>\n",
       "      <th>headwords</th>\n",
       "      <th>number</th>\n",
       "    </tr>\n",
       "  </thead>\n",
       "  <tbody>\n",
       "    <tr>\n",
       "      <th>0</th>\n",
       "      <td>1. Erdoberfläche</td>\n",
       "      <td>[104]</td>\n",
       "    </tr>\n",
       "    <tr>\n",
       "      <th>1</th>\n",
       "      <td>Arm</td>\n",
       "      <td>[33]</td>\n",
       "    </tr>\n",
       "    <tr>\n",
       "      <th>2</th>\n",
       "      <td>Auge</td>\n",
       "      <td>[13]</td>\n",
       "    </tr>\n",
       "    <tr>\n",
       "      <th>3</th>\n",
       "      <td>Besiedelung, Flur</td>\n",
       "      <td>[14, 15]</td>\n",
       "    </tr>\n",
       "    <tr>\n",
       "      <th>4</th>\n",
       "      <td>Bewegung</td>\n",
       "      <td>[42, 43, 44, 45, 46, 47, 48, 49, 50, 51, 52]</td>\n",
       "    </tr>\n",
       "    <tr>\n",
       "      <th>5</th>\n",
       "      <td>Bierbrauerei</td>\n",
       "      <td>[101]</td>\n",
       "    </tr>\n",
       "    <tr>\n",
       "      <th>6</th>\n",
       "      <td>Blutsverwandtschaft, Altersstufen</td>\n",
       "      <td>[87]</td>\n",
       "    </tr>\n",
       "    <tr>\n",
       "      <th>7</th>\n",
       "      <td>Brotbacken</td>\n",
       "      <td>[28, 29, 30]</td>\n",
       "    </tr>\n",
       "    <tr>\n",
       "      <th>8</th>\n",
       "      <td>Das Pferd</td>\n",
       "      <td>[76]</td>\n",
       "    </tr>\n",
       "    <tr>\n",
       "      <th>9</th>\n",
       "      <td>Der Bauernhof</td>\n",
       "      <td>[92, 93]</td>\n",
       "    </tr>\n",
       "    <tr>\n",
       "      <th>10</th>\n",
       "      <td>Der Schuster</td>\n",
       "      <td>[84]</td>\n",
       "    </tr>\n",
       "    <tr>\n",
       "      <th>11</th>\n",
       "      <td>Die Feldfrüchte, ihr Anbau, ihr Wachstum und i...</td>\n",
       "      <td>[100]</td>\n",
       "    </tr>\n",
       "    <tr>\n",
       "      <th>12</th>\n",
       "      <td>Die Osterwoche</td>\n",
       "      <td>[2, 3]</td>\n",
       "    </tr>\n",
       "    <tr>\n",
       "      <th>13</th>\n",
       "      <td>Die Pflanzenwelt unserer Fluren</td>\n",
       "      <td>[85]</td>\n",
       "    </tr>\n",
       "    <tr>\n",
       "      <th>14</th>\n",
       "      <td>Essen und Trinken</td>\n",
       "      <td>[97]</td>\n",
       "    </tr>\n",
       "    <tr>\n",
       "      <th>15</th>\n",
       "      <td>Eßzeug, Waage, Gewichte und Maße</td>\n",
       "      <td>[98]</td>\n",
       "    </tr>\n",
       "    <tr>\n",
       "      <th>16</th>\n",
       "      <td>Farbe</td>\n",
       "      <td>[53]</td>\n",
       "    </tr>\n",
       "    <tr>\n",
       "      <th>17</th>\n",
       "      <td>Feld, Feldbestellung</td>\n",
       "      <td>[16, 17, 18, 19]</td>\n",
       "    </tr>\n",
       "    <tr>\n",
       "      <th>18</th>\n",
       "      <td>Feuer und Wärme</td>\n",
       "      <td>[94]</td>\n",
       "    </tr>\n",
       "    <tr>\n",
       "      <th>19</th>\n",
       "      <td>Finger</td>\n",
       "      <td>[35]</td>\n",
       "    </tr>\n",
       "    <tr>\n",
       "      <th>20</th>\n",
       "      <td>Fuhrwerke</td>\n",
       "      <td>[80, 81]</td>\n",
       "    </tr>\n",
       "    <tr>\n",
       "      <th>21</th>\n",
       "      <td>Gartenbau</td>\n",
       "      <td>[86]</td>\n",
       "    </tr>\n",
       "    <tr>\n",
       "      <th>22</th>\n",
       "      <td>Geburt und Wochenbett</td>\n",
       "      <td>[67]</td>\n",
       "    </tr>\n",
       "    <tr>\n",
       "      <th>23</th>\n",
       "      <td>Geflügel</td>\n",
       "      <td>[75]</td>\n",
       "    </tr>\n",
       "    <tr>\n",
       "      <th>24</th>\n",
       "      <td>Geselligkeit, Freundschaft und Liebe</td>\n",
       "      <td>[88]</td>\n",
       "    </tr>\n",
       "    <tr>\n",
       "      <th>25</th>\n",
       "      <td>Gewerbe</td>\n",
       "      <td>[107, 108, 109]</td>\n",
       "    </tr>\n",
       "    <tr>\n",
       "      <th>26</th>\n",
       "      <td>Gliedmaßen, Arm</td>\n",
       "      <td>[32]</td>\n",
       "    </tr>\n",
       "    <tr>\n",
       "      <th>27</th>\n",
       "      <td>Gruß, Wunsch, Bitte und Dank</td>\n",
       "      <td>[56]</td>\n",
       "    </tr>\n",
       "    <tr>\n",
       "      <th>28</th>\n",
       "      <td>Hand</td>\n",
       "      <td>[34]</td>\n",
       "    </tr>\n",
       "    <tr>\n",
       "      <th>29</th>\n",
       "      <td>Hanf und Flachs und ihre Verwertung</td>\n",
       "      <td>[102]</td>\n",
       "    </tr>\n",
       "  </tbody>\n",
       "</table>\n",
       "</div>"
      ],
      "text/plain": [
       "                                            headwords  \\\n",
       "0                                    1. Erdoberfläche   \n",
       "1                                                 Arm   \n",
       "2                                                Auge   \n",
       "3                                   Besiedelung, Flur   \n",
       "4                                            Bewegung   \n",
       "5                                        Bierbrauerei   \n",
       "6                   Blutsverwandtschaft, Altersstufen   \n",
       "7                                          Brotbacken   \n",
       "8                                           Das Pferd   \n",
       "9                                       Der Bauernhof   \n",
       "10                                       Der Schuster   \n",
       "11  Die Feldfrüchte, ihr Anbau, ihr Wachstum und i...   \n",
       "12                                     Die Osterwoche   \n",
       "13                    Die Pflanzenwelt unserer Fluren   \n",
       "14                                  Essen und Trinken   \n",
       "15                   Eßzeug, Waage, Gewichte und Maße   \n",
       "16                                              Farbe   \n",
       "17                               Feld, Feldbestellung   \n",
       "18                                    Feuer und Wärme   \n",
       "19                                             Finger   \n",
       "20                                          Fuhrwerke   \n",
       "21                                          Gartenbau   \n",
       "22                              Geburt und Wochenbett   \n",
       "23                                           Geflügel   \n",
       "24               Geselligkeit, Freundschaft und Liebe   \n",
       "25                                            Gewerbe   \n",
       "26                                    Gliedmaßen, Arm   \n",
       "27                       Gruß, Wunsch, Bitte und Dank   \n",
       "28                                               Hand   \n",
       "29                Hanf und Flachs und ihre Verwertung   \n",
       "\n",
       "                                          number  \n",
       "0                                          [104]  \n",
       "1                                           [33]  \n",
       "2                                           [13]  \n",
       "3                                       [14, 15]  \n",
       "4   [42, 43, 44, 45, 46, 47, 48, 49, 50, 51, 52]  \n",
       "5                                          [101]  \n",
       "6                                           [87]  \n",
       "7                                   [28, 29, 30]  \n",
       "8                                           [76]  \n",
       "9                                       [92, 93]  \n",
       "10                                          [84]  \n",
       "11                                         [100]  \n",
       "12                                        [2, 3]  \n",
       "13                                          [85]  \n",
       "14                                          [97]  \n",
       "15                                          [98]  \n",
       "16                                          [53]  \n",
       "17                              [16, 17, 18, 19]  \n",
       "18                                          [94]  \n",
       "19                                          [35]  \n",
       "20                                      [80, 81]  \n",
       "21                                          [86]  \n",
       "22                                          [67]  \n",
       "23                                          [75]  \n",
       "24                                          [88]  \n",
       "25                               [107, 108, 109]  \n",
       "26                                          [32]  \n",
       "27                                          [56]  \n",
       "28                                          [34]  \n",
       "29                                         [102]  "
      ]
     },
     "execution_count": 36,
     "metadata": {},
     "output_type": "execute_result"
    }
   ],
   "source": [
    "fb_original.groupby(\"headwords\")[\"number\"].apply(lambda group_series: group_series.tolist()).reset_index().head(30)"
   ]
  },
  {
   "cell_type": "code",
   "execution_count": 37,
   "metadata": {},
   "outputs": [],
   "source": [
    "#https://matplotlib.org/2.0.2/api/colors_api.html\n",
    "\n",
    "G = nx.Graph()\n",
    "\n",
    "for concept_list in fb_original.headwords_list:\n",
    "    for concept in concept_list:\n",
    "        G.add_node(concept, color='white')\n",
    "        \n",
    "for questionnaire in fb_original.number:\n",
    "    G.add_node(questionnaire, color='yellow')\n",
    "    \n",
    "for idn in fb_original.index:\n",
    "    for concept in fb_original.loc[idn, 'headwords_list']:\n",
    "        G.add_edge(concept, fb_original.loc[idn, 'number'], length = 10)"
   ]
  },
  {
   "cell_type": "code",
   "execution_count": 38,
   "metadata": {},
   "outputs": [
    {
     "name": "stdout",
     "output_type": "stream",
     "text": [
      "[('kopf', '1'), ('kopf', '4'), ('osterwoche', '2'), ('osterwoche', '3'), ('fronleichnam', '5'), ('zeit', '5'), ('zeit', '54'), ('zeit', '68'), ('zeit', '72'), ('ostern', '5'), ('ostern', '72'), ('haar', '6'), ('bart', '6'), ('menschl', '6'), ('hochzeit', '7'), ('hochzeit', '8'), ('hochzeit', '9'), ('hochzeit', '10'), ('hochzeit', '11'), ('ohr', '12'), ('nase', '12'), ('auge', '13'), ('besiedelung', '14'), ('besiedelung', '15'), ('flur', '14'), ('flur', '15'), ('feldbestellung', '16'), ('feldbestellung', '17'), ('feldbestellung', '18'), ('feldbestellung', '19'), ('feld', '16'), ('feld', '17'), ('feld', '18'), ('feld', '19'), ('körper', '20'), ('körper', '21'), ('körper', '22'), ('körper', '23'), ('körperteil', '24'), ('körperteil', '77'), ('körperteil', '78'), ('hautkrankheit', '25'), ('hautkrankheit', '26'), ('hautkrankheit', '27'), ('brotbacken', '28'), ('brotbacken', '29'), ('brotbacken', '30'), ('weißgebäck', '31'), ('gliedmaß', '32'), ('arm', '32'), ('arm', '33'), ('hand', '34'), ('finger', '35'), ('schneiderei', '36'), ('schneiderei', '37'), ('schneiderei', '38'), ('schneiderei', '39'), ('kleidung', '40'), ('kleidung', '41'), ('bewegung', '42'), ('bewegung', '43'), ('bewegung', '44'), ('bewegung', '45'), ('bewegung', '46'), ('bewegung', '47'), ('bewegung', '48'), ('bewegung', '49'), ('bewegung', '50'), ('bewegung', '51'), ('bewegung', '52'), ('farbe', '53'), ('mittsommer', '54'), ('neujahr', '54'), ('neujahr', '72'), ('tod', '55'), ('bitte', '56'), ('gruß', '56'), ('wunsch', '56'), ('dank', '56'), ('jagd', '57'), ('jagd', '58'), ('forstwirtschaft', '59'), ('forstwirtschaft', '60'), ('wald', '59'), ('wald', '60'), ('tier', '61'), ('tier', '62'), ('taufe', '63'), ('kinderstube', '63'), ('kind', '63'), ('milchwirtschaft', '64'), ('rindviehzucht', '64'), ('binderei', '65'), ('maurerhandwerk', '65'), ('weinbau', '66'), ('geburt', '67'), ('wochenbett', '67'), ('schweinezucht', '69'), ('ziege', '70'), ('schafzucht', '70'), ('imkerei', '71'), ('schiffahrt', '73'), ('hund', '74'), ('katze', '74'), ('geflügel', '75'), ('pferd', '76'), ('heuarbeit', '79'), ('wiese', '79'), ('fuhrwerke', '80'), ('fuhrwerke', '81'), ('sprechen', '82'), ('sprache', '82'), ('himmel', '83'), ('gestirne', '83'), ('witterung', '83'), ('schuster', '84'), ('pflanzenwelt', '85'), ('fluren', '85'), ('gartenbau', '86'), ('blutsverwandtschaft', '87'), ('altersstufen', '87'), ('geselligkeit', '88'), ('liebe', '88'), ('freundschaft', '88'), ('religion', '89'), ('kirche', '89'), ('mythologisches', '90'), ('unterricht', '91'), ('schule', '91'), ('bauernhof', '92'), ('bauernhof', '93'), ('wärme', '94'), ('feuer', '94'), ('licht', '95'), ('weiblich', '96'), ('arbeit', '96'), ('essen', '97'), ('trinken', '97'), ('waage', '98'), ('eßzeug', '98'), ('gewicht', '98'), ('maß', '98'), ('getränke', '99'), ('speisen', '99'), ('wachstum', '100'), ('anbau', '100'), ('feldfrucht', '100'), ('ernte', '100'), ('bierbrauerei', '101'), ('hanf', '102'), ('verwertung', '102'), ('flachs', '102'), ('hören', '103'), ('sehen', '103'), ('fühlen', '103'), ('erdoberfläche', '104'), ('verkehr', '105'), ('wasser', '106'), ('gewerbe', '107'), ('gewerbe', '108'), ('gewerbe', '109')]\n"
     ]
    }
   ],
   "source": [
    "#print(G.nodes)\n",
    "print(G.edges)"
   ]
  },
  {
   "cell_type": "code",
   "execution_count": 39,
   "metadata": {},
   "outputs": [
    {
     "data": {
      "image/png": "[encoded data removed]",
      "text/plain": [
       "<Figure size 1008x1296 with 1 Axes>"
      ]
     },
     "metadata": {},
     "output_type": "display_data"
    }
   ],
   "source": [
    "#https://stackoverflow.com/questions/48240021/alter-edge-length-and-cluster-spacing-in-networkx-matplotlib-force-graph\n",
    "#if Win: https://graphviz.gitlab.io/_pages/Download/Download_windows.html\n",
    "# https://stackoverflow.com/questions/4571067/installing-pygraphviz-on-windows?rq=1\n",
    "#if Anaconda: conda install graphviz pygraphviz -c alubbock\n",
    "#pip install --global-option=build_ext --global-option=\"-IC:\\Program Files\\<path>\\Graphviz2.38\\include\" --global-option=\"-LC:\\Program Files\\Graphviz2.38\\lib\\release\\lib\" pygraphviz\n",
    "\n",
    "plt.figure(figsize=(14,18))\n",
    "\n",
    "#pos = nx.spring_layout(G)\n",
    "#pos = graphviz_layout(G)\n",
    "pos = graphviz_layout(G, prog='twopi', args='')\n",
    "\n",
    "\n",
    "nx.draw(G, \n",
    "        pos,\n",
    "        #width=5,\n",
    "        alpha=0.9,\n",
    "        #cmap=plt.get_cmap('viridis'),\n",
    "        node_color=nx.get_node_attributes(G,'color').values(), \n",
    "        with_labels=True,\n",
    "        font_weight='bold', \n",
    "        #font_color='white',\n",
    "       )\n",
    "\n",
    "\n",
    "plt.show()"
   ]
  },
  {
   "cell_type": "markdown",
   "metadata": {},
   "source": [
    "## 2 - Frage"
   ]
  },
  {
   "cell_type": "markdown",
   "metadata": {},
   "source": [
    "#### Reading frage information"
   ]
  },
  {
   "cell_type": "code",
   "execution_count": 40,
   "metadata": {},
   "outputs": [],
   "source": [
    "frage = pd.read_csv('./csv/frage.csv', names=[\"id\", \"fragebogen_id\",\"nummer\", \"original_frage\", \"kurzfrage\", \"originaldaten\"])"
   ]
  },
  {
   "cell_type": "code",
   "execution_count": 41,
   "metadata": {},
   "outputs": [
    {
     "name": "stdout",
     "output_type": "stream",
     "text": [
      "<class 'pandas.core.frame.DataFrame'>\n",
      "RangeIndex: 24382 entries, 0 to 24381\n",
      "Data columns (total 6 columns):\n",
      "id                24382 non-null int64\n",
      "fragebogen_id     24382 non-null int64\n",
      "nummer            24382 non-null object\n",
      "original_frage    24382 non-null object\n",
      "kurzfrage         17413 non-null object\n",
      "originaldaten     6528 non-null object\n",
      "dtypes: int64(2), object(4)\n",
      "memory usage: 1.1+ MB\n"
     ]
    }
   ],
   "source": [
    "frage.info()"
   ]
  },
  {
   "cell_type": "markdown",
   "metadata": {},
   "source": [
    "#### Filtering the relevant columns and the original questionnaires"
   ]
  },
  {
   "cell_type": "code",
   "execution_count": 42,
   "metadata": {},
   "outputs": [
    {
     "name": "stdout",
     "output_type": "stream",
     "text": [
      "<class 'pandas.core.frame.DataFrame'>\n",
      "Int64Index: 16744 entries, 0 to 16743\n",
      "Data columns (total 3 columns):\n",
      "fragebogen_id     16744 non-null int64\n",
      "nummer            16744 non-null object\n",
      "original_frage    16744 non-null object\n",
      "dtypes: int64(1), object(2)\n",
      "memory usage: 523.2+ KB\n"
     ]
    }
   ],
   "source": [
    "frage.drop([\"id\", \"originaldaten\", \"kurzfrage\"], axis=1, inplace=True)\n",
    "frage = frage[frage.fragebogen_id <= 109]\n",
    "frage.info()"
   ]
  },
  {
   "cell_type": "code",
   "execution_count": 43,
   "metadata": {},
   "outputs": [
    {
     "data": {
      "text/html": [
       "<div>\n",
       "<style scoped>\n",
       "    .dataframe tbody tr th:only-of-type {\n",
       "        vertical-align: middle;\n",
       "    }\n",
       "\n",
       "    .dataframe tbody tr th {\n",
       "        vertical-align: top;\n",
       "    }\n",
       "\n",
       "    .dataframe thead th {\n",
       "        text-align: right;\n",
       "    }\n",
       "</style>\n",
       "<table border=\"1\" class=\"dataframe\">\n",
       "  <thead>\n",
       "    <tr style=\"text-align: right;\">\n",
       "      <th></th>\n",
       "      <th>fragebogen_id</th>\n",
       "      <th>nummer</th>\n",
       "      <th>original_frage</th>\n",
       "    </tr>\n",
       "  </thead>\n",
       "  <tbody>\n",
       "    <tr>\n",
       "      <th>0</th>\n",
       "      <td>1</td>\n",
       "      <td>A1</td>\n",
       "      <td>Kopf: Kopf, Haupt; auch scherzh./übertr.</td>\n",
       "    </tr>\n",
       "    <tr>\n",
       "      <th>1</th>\n",
       "      <td>1</td>\n",
       "      <td>A2</td>\n",
       "      <td>Kopf: Kopf/Haupt (in urspr. Bed.) in Vergl./Ra...</td>\n",
       "    </tr>\n",
       "    <tr>\n",
       "      <th>2</th>\n",
       "      <td>1</td>\n",
       "      <td>A3</td>\n",
       "      <td>Kopf: Kopf/Haupt (übertr.) in Vergl./Ra. (das ...</td>\n",
       "    </tr>\n",
       "    <tr>\n",
       "      <th>3</th>\n",
       "      <td>1</td>\n",
       "      <td>A4</td>\n",
       "      <td>Kopf: schöner, ebenmäßig gebauter Kopf (Christ...</td>\n",
       "    </tr>\n",
       "    <tr>\n",
       "      <th>4</th>\n",
       "      <td>1</td>\n",
       "      <td>A4a</td>\n",
       "      <td>Kopf: häßlicher, unebenmäßiger Kopf</td>\n",
       "    </tr>\n",
       "  </tbody>\n",
       "</table>\n",
       "</div>"
      ],
      "text/plain": [
       "   fragebogen_id nummer                                     original_frage\n",
       "0              1     A1           Kopf: Kopf, Haupt; auch scherzh./übertr.\n",
       "1              1     A2  Kopf: Kopf/Haupt (in urspr. Bed.) in Vergl./Ra...\n",
       "2              1     A3  Kopf: Kopf/Haupt (übertr.) in Vergl./Ra. (das ...\n",
       "3              1     A4  Kopf: schöner, ebenmäßig gebauter Kopf (Christ...\n",
       "4              1    A4a                Kopf: häßlicher, unebenmäßiger Kopf"
      ]
     },
     "execution_count": 43,
     "metadata": {},
     "output_type": "execute_result"
    }
   ],
   "source": [
    "frage.head()"
   ]
  },
  {
   "cell_type": "code",
   "execution_count": 44,
   "metadata": {},
   "outputs": [
    {
     "data": {
      "text/html": [
       "<div>\n",
       "<style scoped>\n",
       "    .dataframe tbody tr th:only-of-type {\n",
       "        vertical-align: middle;\n",
       "    }\n",
       "\n",
       "    .dataframe tbody tr th {\n",
       "        vertical-align: top;\n",
       "    }\n",
       "\n",
       "    .dataframe thead th {\n",
       "        text-align: right;\n",
       "    }\n",
       "</style>\n",
       "<table border=\"1\" class=\"dataframe\">\n",
       "  <thead>\n",
       "    <tr style=\"text-align: right;\">\n",
       "      <th></th>\n",
       "      <th>fragebogen_id</th>\n",
       "      <th>nummer</th>\n",
       "      <th>original_frage</th>\n",
       "    </tr>\n",
       "  </thead>\n",
       "  <tbody>\n",
       "    <tr>\n",
       "      <th>16739</th>\n",
       "      <td>109</td>\n",
       "      <td>602</td>\n",
       "      <td>Gewerbe: (Gehalts-)Zulage</td>\n",
       "    </tr>\n",
       "    <tr>\n",
       "      <th>16740</th>\n",
       "      <td>109</td>\n",
       "      <td>603</td>\n",
       "      <td>Gewerbe: Abzug v. Gehalt, Pl.</td>\n",
       "    </tr>\n",
       "    <tr>\n",
       "      <th>16741</th>\n",
       "      <td>109</td>\n",
       "      <td>604</td>\n",
       "      <td>Gewerbe: sonstige heute noch lebende, bodenstä...</td>\n",
       "    </tr>\n",
       "    <tr>\n",
       "      <th>16742</th>\n",
       "      <td>109</td>\n",
       "      <td>605</td>\n",
       "      <td>Gewerbe: abgekommene, bodenständige Berufe, di...</td>\n",
       "    </tr>\n",
       "    <tr>\n",
       "      <th>16743</th>\n",
       "      <td>109</td>\n",
       "      <td>606</td>\n",
       "      <td>Gewerbe: bodenständige FN, die vermutl. auf ei...</td>\n",
       "    </tr>\n",
       "  </tbody>\n",
       "</table>\n",
       "</div>"
      ],
      "text/plain": [
       "       fragebogen_id nummer                                     original_frage\n",
       "16739            109    602                          Gewerbe: (Gehalts-)Zulage\n",
       "16740            109    603                      Gewerbe: Abzug v. Gehalt, Pl.\n",
       "16741            109    604  Gewerbe: sonstige heute noch lebende, bodenstä...\n",
       "16742            109    605  Gewerbe: abgekommene, bodenständige Berufe, di...\n",
       "16743            109    606  Gewerbe: bodenständige FN, die vermutl. auf ei..."
      ]
     },
     "execution_count": 44,
     "metadata": {},
     "output_type": "execute_result"
    }
   ],
   "source": [
    "frage.tail()"
   ]
  },
  {
   "cell_type": "markdown",
   "metadata": {},
   "source": [
    "#### Extracting information from the frage \"original_frage\" field"
   ]
  },
  {
   "cell_type": "code",
   "execution_count": 45,
   "metadata": {},
   "outputs": [
    {
     "data": {
      "text/html": [
       "<div>\n",
       "<style scoped>\n",
       "    .dataframe tbody tr th:only-of-type {\n",
       "        vertical-align: middle;\n",
       "    }\n",
       "\n",
       "    .dataframe tbody tr th {\n",
       "        vertical-align: top;\n",
       "    }\n",
       "\n",
       "    .dataframe thead th {\n",
       "        text-align: right;\n",
       "    }\n",
       "</style>\n",
       "<table border=\"1\" class=\"dataframe\">\n",
       "  <thead>\n",
       "    <tr style=\"text-align: right;\">\n",
       "      <th></th>\n",
       "      <th>0</th>\n",
       "      <th>1</th>\n",
       "    </tr>\n",
       "  </thead>\n",
       "  <tbody>\n",
       "    <tr>\n",
       "      <th>0</th>\n",
       "      <td>Kopf</td>\n",
       "      <td>Kopf, Haupt; auch scherzh./übertr.</td>\n",
       "    </tr>\n",
       "    <tr>\n",
       "      <th>1</th>\n",
       "      <td>Kopf</td>\n",
       "      <td>Kopf/Haupt (in urspr. Bed.) in Vergl./Ra. (Ko...</td>\n",
       "    </tr>\n",
       "    <tr>\n",
       "      <th>2</th>\n",
       "      <td>Kopf</td>\n",
       "      <td>Kopf/Haupt (übertr.) in Vergl./Ra. (das ist e...</td>\n",
       "    </tr>\n",
       "    <tr>\n",
       "      <th>3</th>\n",
       "      <td>Kopf</td>\n",
       "      <td>schöner, ebenmäßig gebauter Kopf (Christuskop...</td>\n",
       "    </tr>\n",
       "    <tr>\n",
       "      <th>4</th>\n",
       "      <td>Kopf</td>\n",
       "      <td>häßlicher, unebenmäßiger Kopf</td>\n",
       "    </tr>\n",
       "    <tr>\n",
       "      <th>5</th>\n",
       "      <td>Kopf</td>\n",
       "      <td>großer Kopf; großkopfig</td>\n",
       "    </tr>\n",
       "    <tr>\n",
       "      <th>6</th>\n",
       "      <td>Kopf</td>\n",
       "      <td>Wasserkopf</td>\n",
       "    </tr>\n",
       "    <tr>\n",
       "      <th>7</th>\n",
       "      <td>Kopf</td>\n",
       "      <td>kleiner Kopf</td>\n",
       "    </tr>\n",
       "    <tr>\n",
       "      <th>8</th>\n",
       "      <td>Kopf</td>\n",
       "      <td>oben zugespitzter Kopf</td>\n",
       "    </tr>\n",
       "    <tr>\n",
       "      <th>9</th>\n",
       "      <td>Kopf</td>\n",
       "      <td>langer Kopf</td>\n",
       "    </tr>\n",
       "  </tbody>\n",
       "</table>\n",
       "</div>"
      ],
      "text/plain": [
       "      0                                                  1\n",
       "0  Kopf                 Kopf, Haupt; auch scherzh./übertr.\n",
       "1  Kopf   Kopf/Haupt (in urspr. Bed.) in Vergl./Ra. (Ko...\n",
       "2  Kopf   Kopf/Haupt (übertr.) in Vergl./Ra. (das ist e...\n",
       "3  Kopf   schöner, ebenmäßig gebauter Kopf (Christuskop...\n",
       "4  Kopf                      häßlicher, unebenmäßiger Kopf\n",
       "5  Kopf                            großer Kopf; großkopfig\n",
       "6  Kopf                                         Wasserkopf\n",
       "7  Kopf                                       kleiner Kopf\n",
       "8  Kopf                             oben zugespitzter Kopf\n",
       "9  Kopf                                        langer Kopf"
      ]
     },
     "execution_count": 45,
     "metadata": {},
     "output_type": "execute_result"
    }
   ],
   "source": [
    "#regex2 = r'([A-ZÄÖÜa-zäöüß.\\(\\)\\-\\/]+)[:]{1}([A-ZÄÖÜa-zäöüß0-9=,;:\\-\\(\\)\\.\\?\\s]+)'\n",
    "#regex2 = r'([A-ZÄÖÜa-zäöüß.\\(\\)\\-\\/]+)[:]{1}([A-ZÄÖÜa-zäöüß0-9=,;:\\/\\-\\(\\)\\.\\?\\s]+)'\n",
    "regex2 = r'([A-ZÄÖÜa-zäöüß.\\(\\)\\-\\/]+)[:]{1}(.+)'\n",
    "\n",
    "frage.original_frage.str.extract(regex2).head(10)"
   ]
  },
  {
   "cell_type": "code",
   "execution_count": 46,
   "metadata": {},
   "outputs": [],
   "source": [
    "frage['main_theme'] = frage.original_frage.str.extract(regex2)[0]\n",
    "frage.dropna(subset=['main_theme'], inplace=True,)\n",
    "frage['question_words'] = frage.original_frage.str.extract(regex2)[1]"
   ]
  },
  {
   "cell_type": "code",
   "execution_count": 47,
   "metadata": {},
   "outputs": [
    {
     "data": {
      "text/html": [
       "<div>\n",
       "<style scoped>\n",
       "    .dataframe tbody tr th:only-of-type {\n",
       "        vertical-align: middle;\n",
       "    }\n",
       "\n",
       "    .dataframe tbody tr th {\n",
       "        vertical-align: top;\n",
       "    }\n",
       "\n",
       "    .dataframe thead th {\n",
       "        text-align: right;\n",
       "    }\n",
       "</style>\n",
       "<table border=\"1\" class=\"dataframe\">\n",
       "  <thead>\n",
       "    <tr style=\"text-align: right;\">\n",
       "      <th></th>\n",
       "      <th>fragebogen_id</th>\n",
       "      <th>nummer</th>\n",
       "      <th>original_frage</th>\n",
       "      <th>main_theme</th>\n",
       "      <th>question_words</th>\n",
       "    </tr>\n",
       "  </thead>\n",
       "  <tbody>\n",
       "    <tr>\n",
       "      <th>0</th>\n",
       "      <td>1</td>\n",
       "      <td>A1</td>\n",
       "      <td>Kopf: Kopf, Haupt; auch scherzh./übertr.</td>\n",
       "      <td>Kopf</td>\n",
       "      <td>Kopf, Haupt; auch scherzh./übertr.</td>\n",
       "    </tr>\n",
       "    <tr>\n",
       "      <th>1</th>\n",
       "      <td>1</td>\n",
       "      <td>A2</td>\n",
       "      <td>Kopf: Kopf/Haupt (in urspr. Bed.) in Vergl./Ra...</td>\n",
       "      <td>Kopf</td>\n",
       "      <td>Kopf/Haupt (in urspr. Bed.) in Vergl./Ra. (Ko...</td>\n",
       "    </tr>\n",
       "    <tr>\n",
       "      <th>2</th>\n",
       "      <td>1</td>\n",
       "      <td>A3</td>\n",
       "      <td>Kopf: Kopf/Haupt (übertr.) in Vergl./Ra. (das ...</td>\n",
       "      <td>Kopf</td>\n",
       "      <td>Kopf/Haupt (übertr.) in Vergl./Ra. (das ist e...</td>\n",
       "    </tr>\n",
       "    <tr>\n",
       "      <th>3</th>\n",
       "      <td>1</td>\n",
       "      <td>A4</td>\n",
       "      <td>Kopf: schöner, ebenmäßig gebauter Kopf (Christ...</td>\n",
       "      <td>Kopf</td>\n",
       "      <td>schöner, ebenmäßig gebauter Kopf (Christuskop...</td>\n",
       "    </tr>\n",
       "    <tr>\n",
       "      <th>4</th>\n",
       "      <td>1</td>\n",
       "      <td>A4a</td>\n",
       "      <td>Kopf: häßlicher, unebenmäßiger Kopf</td>\n",
       "      <td>Kopf</td>\n",
       "      <td>häßlicher, unebenmäßiger Kopf</td>\n",
       "    </tr>\n",
       "    <tr>\n",
       "      <th>5</th>\n",
       "      <td>1</td>\n",
       "      <td>A5</td>\n",
       "      <td>Kopf: großer Kopf; großkopfig</td>\n",
       "      <td>Kopf</td>\n",
       "      <td>großer Kopf; großkopfig</td>\n",
       "    </tr>\n",
       "    <tr>\n",
       "      <th>6</th>\n",
       "      <td>1</td>\n",
       "      <td>A5a</td>\n",
       "      <td>Kopf: Wasserkopf</td>\n",
       "      <td>Kopf</td>\n",
       "      <td>Wasserkopf</td>\n",
       "    </tr>\n",
       "    <tr>\n",
       "      <th>7</th>\n",
       "      <td>1</td>\n",
       "      <td>A6</td>\n",
       "      <td>Kopf: kleiner Kopf</td>\n",
       "      <td>Kopf</td>\n",
       "      <td>kleiner Kopf</td>\n",
       "    </tr>\n",
       "    <tr>\n",
       "      <th>8</th>\n",
       "      <td>1</td>\n",
       "      <td>A7</td>\n",
       "      <td>Kopf: oben zugespitzter Kopf</td>\n",
       "      <td>Kopf</td>\n",
       "      <td>oben zugespitzter Kopf</td>\n",
       "    </tr>\n",
       "    <tr>\n",
       "      <th>9</th>\n",
       "      <td>1</td>\n",
       "      <td>A8</td>\n",
       "      <td>Kopf: langer Kopf</td>\n",
       "      <td>Kopf</td>\n",
       "      <td>langer Kopf</td>\n",
       "    </tr>\n",
       "    <tr>\n",
       "      <th>10</th>\n",
       "      <td>1</td>\n",
       "      <td>A9</td>\n",
       "      <td>Kopf: kurzer, platter Kopf</td>\n",
       "      <td>Kopf</td>\n",
       "      <td>kurzer, platter Kopf</td>\n",
       "    </tr>\n",
       "    <tr>\n",
       "      <th>11</th>\n",
       "      <td>1</td>\n",
       "      <td>A10</td>\n",
       "      <td>Kopf: runder Kopf</td>\n",
       "      <td>Kopf</td>\n",
       "      <td>runder Kopf</td>\n",
       "    </tr>\n",
       "    <tr>\n",
       "      <th>12</th>\n",
       "      <td>1</td>\n",
       "      <td>A11</td>\n",
       "      <td>Kopf: breiter Kopf</td>\n",
       "      <td>Kopf</td>\n",
       "      <td>breiter Kopf</td>\n",
       "    </tr>\n",
       "    <tr>\n",
       "      <th>13</th>\n",
       "      <td>1</td>\n",
       "      <td>A12</td>\n",
       "      <td>Kopf: schmaler Kopf</td>\n",
       "      <td>Kopf</td>\n",
       "      <td>schmaler Kopf</td>\n",
       "    </tr>\n",
       "    <tr>\n",
       "      <th>14</th>\n",
       "      <td>1</td>\n",
       "      <td>A13</td>\n",
       "      <td>Kopf: schiefer Kopf</td>\n",
       "      <td>Kopf</td>\n",
       "      <td>schiefer Kopf</td>\n",
       "    </tr>\n",
       "    <tr>\n",
       "      <th>15</th>\n",
       "      <td>1</td>\n",
       "      <td>A14</td>\n",
       "      <td>Kopf: Kopf mit dunkler Gesichtsfarbe und kraus...</td>\n",
       "      <td>Kopf</td>\n",
       "      <td>Kopf mit dunkler Gesichtsfarbe und krausem Ha...</td>\n",
       "    </tr>\n",
       "    <tr>\n",
       "      <th>16</th>\n",
       "      <td>1</td>\n",
       "      <td>A15</td>\n",
       "      <td>Kopf: mißgestalteter Kopf (Fischkopf \"Kindskop...</td>\n",
       "      <td>Kopf</td>\n",
       "      <td>mißgestalteter Kopf (Fischkopf \"Kindskopf mit...</td>\n",
       "    </tr>\n",
       "    <tr>\n",
       "      <th>17</th>\n",
       "      <td>1</td>\n",
       "      <td>A16</td>\n",
       "      <td>Kopf: Kopf mit Ungeziefer behaftet (Laus-, Niß...</td>\n",
       "      <td>Kopf</td>\n",
       "      <td>Kopf mit Ungeziefer behaftet (Laus-, Nißkopf)</td>\n",
       "    </tr>\n",
       "    <tr>\n",
       "      <th>18</th>\n",
       "      <td>1</td>\n",
       "      <td>A17</td>\n",
       "      <td>Kopf: Krankheiten des Kopfes (Kopfweh, -typhus)</td>\n",
       "      <td>Kopf</td>\n",
       "      <td>Krankheiten des Kopfes (Kopfweh, -typhus)</td>\n",
       "    </tr>\n",
       "    <tr>\n",
       "      <th>19</th>\n",
       "      <td>1</td>\n",
       "      <td>A17a</td>\n",
       "      <td>Kopf: durch Krankheiten entstellter Kopf (Krät...</td>\n",
       "      <td>Kopf</td>\n",
       "      <td>durch Krankheiten entstellter Kopf (Krätzen-,...</td>\n",
       "    </tr>\n",
       "  </tbody>\n",
       "</table>\n",
       "</div>"
      ],
      "text/plain": [
       "    fragebogen_id nummer                                     original_frage  \\\n",
       "0               1     A1           Kopf: Kopf, Haupt; auch scherzh./übertr.   \n",
       "1               1     A2  Kopf: Kopf/Haupt (in urspr. Bed.) in Vergl./Ra...   \n",
       "2               1     A3  Kopf: Kopf/Haupt (übertr.) in Vergl./Ra. (das ...   \n",
       "3               1     A4  Kopf: schöner, ebenmäßig gebauter Kopf (Christ...   \n",
       "4               1    A4a                Kopf: häßlicher, unebenmäßiger Kopf   \n",
       "5               1     A5                      Kopf: großer Kopf; großkopfig   \n",
       "6               1    A5a                                   Kopf: Wasserkopf   \n",
       "7               1     A6                                 Kopf: kleiner Kopf   \n",
       "8               1     A7                       Kopf: oben zugespitzter Kopf   \n",
       "9               1     A8                                  Kopf: langer Kopf   \n",
       "10              1     A9                         Kopf: kurzer, platter Kopf   \n",
       "11              1    A10                                  Kopf: runder Kopf   \n",
       "12              1    A11                                 Kopf: breiter Kopf   \n",
       "13              1    A12                                Kopf: schmaler Kopf   \n",
       "14              1    A13                                Kopf: schiefer Kopf   \n",
       "15              1    A14  Kopf: Kopf mit dunkler Gesichtsfarbe und kraus...   \n",
       "16              1    A15  Kopf: mißgestalteter Kopf (Fischkopf \"Kindskop...   \n",
       "17              1    A16  Kopf: Kopf mit Ungeziefer behaftet (Laus-, Niß...   \n",
       "18              1    A17    Kopf: Krankheiten des Kopfes (Kopfweh, -typhus)   \n",
       "19              1   A17a  Kopf: durch Krankheiten entstellter Kopf (Krät...   \n",
       "\n",
       "   main_theme                                     question_words  \n",
       "0        Kopf                 Kopf, Haupt; auch scherzh./übertr.  \n",
       "1        Kopf   Kopf/Haupt (in urspr. Bed.) in Vergl./Ra. (Ko...  \n",
       "2        Kopf   Kopf/Haupt (übertr.) in Vergl./Ra. (das ist e...  \n",
       "3        Kopf   schöner, ebenmäßig gebauter Kopf (Christuskop...  \n",
       "4        Kopf                      häßlicher, unebenmäßiger Kopf  \n",
       "5        Kopf                            großer Kopf; großkopfig  \n",
       "6        Kopf                                         Wasserkopf  \n",
       "7        Kopf                                       kleiner Kopf  \n",
       "8        Kopf                             oben zugespitzter Kopf  \n",
       "9        Kopf                                        langer Kopf  \n",
       "10       Kopf                               kurzer, platter Kopf  \n",
       "11       Kopf                                        runder Kopf  \n",
       "12       Kopf                                       breiter Kopf  \n",
       "13       Kopf                                      schmaler Kopf  \n",
       "14       Kopf                                      schiefer Kopf  \n",
       "15       Kopf   Kopf mit dunkler Gesichtsfarbe und krausem Ha...  \n",
       "16       Kopf   mißgestalteter Kopf (Fischkopf \"Kindskopf mit...  \n",
       "17       Kopf      Kopf mit Ungeziefer behaftet (Laus-, Nißkopf)  \n",
       "18       Kopf          Krankheiten des Kopfes (Kopfweh, -typhus)  \n",
       "19       Kopf   durch Krankheiten entstellter Kopf (Krätzen-,...  "
      ]
     },
     "execution_count": 47,
     "metadata": {},
     "output_type": "execute_result"
    }
   ],
   "source": [
    "frage.head(20)"
   ]
  },
  {
   "cell_type": "markdown",
   "metadata": {},
   "source": [
    "#### Expanding abbreviations, tokenizing, eliminating stopwords and lemmatizing¶"
   ]
  },
  {
   "cell_type": "code",
   "execution_count": 48,
   "metadata": {},
   "outputs": [
    {
     "name": "stderr",
     "output_type": "stream",
     "text": [
      "/usr/local/lib/python3.6/dist-packages/pattern/text/__init__.py:2127: DeprecationWarning: generator '_read' raised StopIteration\n",
      "  for v in _read(self._path):\n"
     ]
    }
   ],
   "source": [
    "changes = {}\n",
    "frage.loc[:,'main_theme'] = frage['main_theme'].apply(expand_tokenize_clean_lemmatize)\n",
    "\n",
    "#for key, value in sorted(changes.items()):\n",
    "#    print(key, \"----> \", value)"
   ]
  },
  {
   "cell_type": "code",
   "execution_count": null,
   "metadata": {},
   "outputs": [],
   "source": [
    "changes = {}\n",
    "frage['question_words'] = frage.question_words.apply(expand_tokenize_clean_lemmatize)\n",
    "\n",
    "#for key, value in sorted(changes.items()):\n",
    "#    print(key, \"----> \", value)"
   ]
  },
  {
   "cell_type": "markdown",
   "metadata": {},
   "source": [
    "Adding the main theme to the list of question words"
   ]
  },
  {
   "cell_type": "code",
   "execution_count": null,
   "metadata": {},
   "outputs": [],
   "source": [
    "frage['question_words'] = frage['main_theme'] + frage['question_words']\n",
    "frage['question_words'] = frage.question_words.apply(lambda x:list(set(x)))"
   ]
  },
  {
   "cell_type": "markdown",
   "metadata": {},
   "source": [
    "Separating syntactic and semantic words in two columns "
   ]
  },
  {
   "cell_type": "code",
   "execution_count": null,
   "metadata": {},
   "outputs": [],
   "source": [
    "syntactic = ['komposita', \n",
    "             'plural', \n",
    "             'deminutiv', \n",
    "             'femininum', \n",
    "             'adjektiv', \n",
    "             'synonyme', \n",
    "             'redensarten',\n",
    "             'beispiel',\n",
    "             'bedeutung',\n",
    "             'substantiva', \n",
    "             'verb']\n",
    "\n",
    "def filter_words(list_of_words):\n",
    "    list1 = [w for w in list_of_words if w not in syntactic]\n",
    "    list2 = [w for w in list_of_words if w in syntactic]\n",
    "    return list1, list2"
   ]
  },
  {
   "cell_type": "code",
   "execution_count": null,
   "metadata": {},
   "outputs": [],
   "source": [
    "frage['semantic_words'] = frage['question_words'].apply(lambda x: filter_words(x)[0])\n",
    "frage['syntactic_words'] = frage['question_words'].apply(lambda x: filter_words(x)[1])"
   ]
  },
  {
   "cell_type": "code",
   "execution_count": null,
   "metadata": {},
   "outputs": [],
   "source": [
    "frage.head(100)\n",
    "#frage.info()"
   ]
  },
  {
   "cell_type": "markdown",
   "metadata": {},
   "source": [
    "#### Examining the common concepts"
   ]
  },
  {
   "cell_type": "code",
   "execution_count": null,
   "metadata": {},
   "outputs": [],
   "source": [
    "concepts = []\n",
    "for entry in frage.syntactic_words.values:  \n",
    "    for concept in entry:\n",
    "        concepts.append(concept)\n",
    "#concepts = [c for c in concepts if c not in german_stopwords]\n",
    "fdconcepts = collections.Counter(concepts)\n",
    "fdconcepts.most_common(200)"
   ]
  },
  {
   "cell_type": "code",
   "execution_count": null,
   "metadata": {},
   "outputs": [],
   "source": [
    "concepts = []\n",
    "for entry in frage.semantic_words.values:  \n",
    "    for concept in entry:\n",
    "        concepts.append(concept)\n",
    "#concepts = [c for c in concepts if c not in german_stopwords]\n",
    "fdconcepts = collections.Counter(concepts)\n",
    "fdconcepts.most_common(200)"
   ]
  },
  {
   "cell_type": "code",
   "execution_count": null,
   "metadata": {},
   "outputs": [],
   "source": [
    "#anomalie = 'ab'\n",
    "#anomalie = 'n'\n",
    "#anomalie = 'e'\n",
    "#anomalie = 'ra'\n",
    "#anomalie = 'b'\n",
    "anomalie = 'komp'\n",
    "\n",
    "for elem in frage[frage.question_words.apply(lambda x: anomalie in x)][['original_frage','question_words']][0:5].values:\n",
    "    print(elem)\n",
    "    print()"
   ]
  },
  {
   "cell_type": "markdown",
   "metadata": {},
   "source": [
    "#### (Sanity checking)"
   ]
  },
  {
   "cell_type": "code",
   "execution_count": null,
   "metadata": {},
   "outputs": [],
   "source": [
    "expression = \"Feld/säen: Vb.Komp. mit säen, wie: an-, aus-, ein-, hin-, hinzu-, nach-, be-, versäen u.a.; überall Bed.Ang., auch übertr. Bed., z.B. er hat das ganze Geld versät/ angesät, d.h. verstreut, verloren\"\n",
    "print(re.findall(regex2, expression))\n",
    "expand_tokenize_clean_lemmatize(re.findall(regex2, expression)[0][1])"
   ]
  },
  {
   "cell_type": "markdown",
   "metadata": {},
   "source": [
    "#### Drawing the Graphs of specific Fragebogen / Frage concepts"
   ]
  },
  {
   "cell_type": "code",
   "execution_count": null,
   "metadata": {},
   "outputs": [],
   "source": [
    "#filtered = frage[frage.fragebogen_id <= 4]\n",
    "\n",
    "#cfilter = \"kopf\"\n",
    "#cfilter = \"schwarz\"\n",
    "cfilter = \"suppe\"\n",
    "#cfilter = \"speise\"\n",
    "filtered = frage[frage.semantic_words.apply(lambda x: cfilter in x)]"
   ]
  },
  {
   "cell_type": "code",
   "execution_count": null,
   "metadata": {},
   "outputs": [],
   "source": [
    "G = nx.Graph()\n",
    "\n",
    "for concept_list in filtered.semantic_words:\n",
    "    for concept in concept_list:\n",
    "        G.add_node(concept, color='white')\n",
    "        \n",
    "for questionnaire in filtered.fragebogen_id:\n",
    "    G.add_node(questionnaire, color='yellow')\n",
    "    \n",
    "for idn in filtered.index:\n",
    "    for concept in filtered.loc[idn, 'semantic_words']:\n",
    "        G.add_edge(concept, filtered.loc[idn, 'fragebogen_id'], length = 10)"
   ]
  },
  {
   "cell_type": "code",
   "execution_count": null,
   "metadata": {},
   "outputs": [],
   "source": [
    "plt.figure(figsize=(32,32))\n",
    "\n",
    "#pos = nx.spring_layout(G)\n",
    "#pos = graphviz_layout(G)\n",
    "pos = graphviz_layout(G, prog='twopi', args='')\n",
    "\n",
    "\n",
    "nx.draw(G, \n",
    "        pos,\n",
    "        width=1,\n",
    "        alpha=0.9,\n",
    "        #cmap=plt.get_cmap('viridis'),\n",
    "        node_color=nx.get_node_attributes(G,'color').values(), \n",
    "        with_labels=True,\n",
    "        #font_weight='bold', \n",
    "        #font_color='white',\n",
    "       )\n",
    "\n",
    "\n",
    "#plt.show()\n",
    "\n",
    "\n",
    "plt.savefig('./outputs/{}.png'.format(cfilter), bbox_inches='tight')"
   ]
  },
  {
   "cell_type": "markdown",
   "metadata": {},
   "source": [
    "### Topic Modeling with the concepts"
   ]
  },
  {
   "cell_type": "markdown",
   "metadata": {},
   "source": [
    "Preparing Document-Term Matrix\n",
    "\n",
    "All the text documents combined is known as the corpus. To run any mathematical model on text corpus, it is a good practice to convert it into a matrix representation. LDA model looks for repeating term patterns in the entire DT matrix. Python provides many great libraries for text mining practices, “gensim” is one such clean and beautiful library to handle text data. It is scalable, robust and efficient. Following code shows how to convert a corpus into a document-term matrix."
   ]
  },
  {
   "cell_type": "code",
   "execution_count": null,
   "metadata": {},
   "outputs": [],
   "source": [
    "all_concepts = []\n",
    "for entry in frage.semantic_words.values:\n",
    "    all_concepts.append(entry)\n",
    "    \n",
    "# Creating the term dictionary of our courpus, where every unique term is assigned an index. \n",
    "dictionary = corpora.Dictionary(all_concepts)\n",
    "dictionary.filter_extremes(no_below=1, no_above=0.8)\n",
    "\n",
    "# Converting list of documents (corpus) into Document Term Matrix using dictionary prepared above.\n",
    "doc_term_matrix = [dictionary.doc2bow(doc) for doc in all_concepts]"
   ]
  },
  {
   "cell_type": "markdown",
   "metadata": {},
   "source": [
    "Running LDA Model\n",
    "\n",
    "Next step is to create an object for LDA model and train it on Document-Term matrix. The training also requires few parameters as input which are explained in the above section. The gensim module allows both LDA model estimation from a training corpus and inference of topic distribution on new, unseen documents."
   ]
  },
  {
   "cell_type": "code",
   "execution_count": null,
   "metadata": {},
   "outputs": [],
   "source": [
    "# Creating the object for LDA model using gensim library\n",
    "Lda = gensim.models.ldamodel.LdaModel\n",
    "\n",
    "# Running and Trainign LDA model on the document term matrix.\n",
    "ldamodel = Lda(doc_term_matrix, num_topics=8, id2word = dictionary, passes=50)"
   ]
  },
  {
   "cell_type": "code",
   "execution_count": null,
   "metadata": {},
   "outputs": [],
   "source": [
    "ldamodel.print_topics(num_topics=8, num_words=7)\n",
    "#ldamodel.show_topics(10)"
   ]
  },
  {
   "cell_type": "code",
   "execution_count": null,
   "metadata": {},
   "outputs": [],
   "source": [
    "topics_matrix = ldamodel.show_topics(formatted=False, num_words=20)\n",
    "dic_topics = {num:words for num, words in topics_matrix}\n",
    "df = pd.DataFrame(dic_topics)\n",
    "df = df.reindex(sorted(df.columns), axis=1)\n",
    "df.head(20)\n",
    "#{num:words for num, words in topics_matrix}"
   ]
  },
  {
   "cell_type": "code",
   "execution_count": null,
   "metadata": {},
   "outputs": [],
   "source": [
    "pyLDAvis.enable_notebook()\n",
    "p = pyLDAvis.gensim.prepare(ldamodel, doc_term_matrix, dictionary)\n",
    "pyLDAvis.save_html(p, './outputs/lda.html')"
   ]
  },
  {
   "cell_type": "markdown",
   "metadata": {},
   "source": [
    "Using [Word Embeddings](https://devmount.github.io/GermanWordEmbeddings/#download)"
   ]
  }
 ],
 "metadata": {
  "kernelspec": {
   "display_name": "Python 3",
   "language": "python",
   "name": "python3"
  },
  "language_info": {
   "codemirror_mode": {
    "name": "ipython",
    "version": 3
   },
   "file_extension": ".py",
   "mimetype": "text/x-python",
   "name": "python",
   "nbconvert_exporter": "python",
   "pygments_lexer": "ipython3",
   "version": "3.6.7"
  }
 },
 "nbformat": 4,
 "nbformat_minor": 2
}
