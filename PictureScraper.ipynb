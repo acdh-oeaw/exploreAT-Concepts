{
 "cells": [
  {
   "cell_type": "code",
   "execution_count": 88,
   "metadata": {},
   "outputs": [],
   "source": [
    "import os\n",
    "import sys\n",
    "import time\n",
    "import re\n",
    "\n",
    "import urllib\n",
    "import simplejson\n",
    "import pandas as pd\n",
    "import wikipedia\n",
    "\n",
    "# https://google-images-download.readthedocs.io/en/latest/arguments.html\n",
    "from google_images_download import google_images_download\n",
    "\n",
    "from IPython.display import clear_output"
   ]
  },
  {
   "cell_type": "code",
   "execution_count": 11,
   "metadata": {},
   "outputs": [],
   "source": [
    "df = pd.read_excel(\"./csv/plant_names.xlsx\", encoding=sys.getfilesystemencoding())"
   ]
  },
  {
   "cell_type": "code",
   "execution_count": 49,
   "metadata": {},
   "outputs": [
    {
     "data": {
      "text/html": [
       "<div>\n",
       "<style scoped>\n",
       "    .dataframe tbody tr th:only-of-type {\n",
       "        vertical-align: middle;\n",
       "    }\n",
       "\n",
       "    .dataframe tbody tr th {\n",
       "        vertical-align: top;\n",
       "    }\n",
       "\n",
       "    .dataframe thead th {\n",
       "        text-align: right;\n",
       "    }\n",
       "</style>\n",
       "<table border=\"1\" class=\"dataframe\">\n",
       "  <thead>\n",
       "    <tr style=\"text-align: right;\">\n",
       "      <th></th>\n",
       "      <th>hochdeutsch</th>\n",
       "      <th>dbo</th>\n",
       "      <th>wbo</th>\n",
       "    </tr>\n",
       "  </thead>\n",
       "  <tbody>\n",
       "    <tr>\n",
       "      <th>0</th>\n",
       "      <td>Feldblume</td>\n",
       "      <td>(Fëld)plme</td>\n",
       "      <td>(Fëld)plme</td>\n",
       "    </tr>\n",
       "    <tr>\n",
       "      <th>1</th>\n",
       "      <td>NaN</td>\n",
       "      <td>(Garten)rockellein</td>\n",
       "      <td>NaN</td>\n",
       "    </tr>\n",
       "    <tr>\n",
       "      <th>2</th>\n",
       "      <td>NaN</td>\n",
       "      <td>(Ge-ëb)pāum</td>\n",
       "      <td>NaN</td>\n",
       "    </tr>\n",
       "    <tr>\n",
       "      <th>3</th>\n",
       "      <td>NaN</td>\n",
       "      <td>(Mânets)plme</td>\n",
       "      <td>Plme</td>\n",
       "    </tr>\n",
       "    <tr>\n",
       "      <th>4</th>\n",
       "      <td>NaN</td>\n",
       "      <td>(Röhrl)Pletze</td>\n",
       "      <td>NaN</td>\n",
       "    </tr>\n",
       "    <tr>\n",
       "      <th>5</th>\n",
       "      <td>NaN</td>\n",
       "      <td>(Sau)pl*ume</td>\n",
       "      <td>NaN</td>\n",
       "    </tr>\n",
       "    <tr>\n",
       "      <th>6</th>\n",
       "      <td>NaN</td>\n",
       "      <td>Abies alba Mill.</td>\n",
       "      <td>NaN</td>\n",
       "    </tr>\n",
       "    <tr>\n",
       "      <th>7</th>\n",
       "      <td>NaN</td>\n",
       "      <td>Abraute</td>\n",
       "      <td>NaN</td>\n",
       "    </tr>\n",
       "    <tr>\n",
       "      <th>8</th>\n",
       "      <td>NaN</td>\n",
       "      <td>Acer campestre L.</td>\n",
       "      <td>Acer campestre</td>\n",
       "    </tr>\n",
       "    <tr>\n",
       "      <th>9</th>\n",
       "      <td>NaN</td>\n",
       "      <td>Acer campestre L.</td>\n",
       "      <td>Acer campestre</td>\n",
       "    </tr>\n",
       "  </tbody>\n",
       "</table>\n",
       "</div>"
      ],
      "text/plain": [
       "  hochdeutsch                 dbo              wbo\n",
       "0   Feldblume         (Fëld)plme      (Fëld)plme\n",
       "1         NaN  (Garten)rockellein              NaN\n",
       "2         NaN         (Ge-ëb)pāum              NaN\n",
       "3         NaN       (Mânets)plme            Plme\n",
       "4         NaN       (Röhrl)Pletze              NaN\n",
       "5         NaN         (Sau)pl*ume              NaN\n",
       "6         NaN    Abies alba Mill.              NaN\n",
       "7         NaN             Abraute              NaN\n",
       "8         NaN   Acer campestre L.   Acer campestre\n",
       "9         NaN  Acer campestre L.   Acer campestre "
      ]
     },
     "execution_count": 49,
     "metadata": {},
     "output_type": "execute_result"
    }
   ],
   "source": [
    "df.head(10)"
   ]
  },
  {
   "cell_type": "code",
   "execution_count": 84,
   "metadata": {},
   "outputs": [],
   "source": [
    "names = df[\"dbo\"].unique()[1500:]\n",
    "names = [n.strip() for n in names]\n",
    "names = [re.sub(r'[\\(\\)]+',' ', n) for n in names]\n",
    "names = list(set(names))"
   ]
  },
  {
   "cell_type": "code",
   "execution_count": 85,
   "metadata": {},
   "outputs": [],
   "source": [
    "def downloadimages(query): \n",
    "    # keywords is the search query \n",
    "    # format is the image file format \n",
    "    # limit is the number of images to be downloaded \n",
    "    # print urs is to print the image file url \n",
    "    # size is the image size which can \n",
    "    # be specified manually (\"large, medium, icon\") \n",
    "    # aspect ratio denotes the height width ratio \n",
    "    # of images to download. (\"tall, square, wide, panoramic\") \n",
    "    \n",
    "    arguments = {\"keywords\": query, \n",
    "                 #\"format\": \"jpg\", \n",
    "                 \"limit\": 10, \n",
    "                 \"print_urls\": True, \n",
    "                 #\"size\": \"medium\", \n",
    "                 #\"aspect_ratio\": \"panoramic\",\n",
    "                 #\"usage_rights\": \"labeled-for-reuse-with-modifications\",\n",
    "                 \"delay\": 4} \n",
    "    try: \n",
    "        response.download(arguments) \n",
    "      \n",
    "    # Handling File NotFound Error     \n",
    "    except FileNotFoundError:  \n",
    "        arguments = {\"keywords\": query, \n",
    "                     #\"format\": \"jpg\", \n",
    "                     \"limit\": 10, \n",
    "                     \"print_urls\":True,  \n",
    "                     #\"size\": \"medium\",\n",
    "                     #\"usage_rights\": \"labeled-for-reuse-with-modifications\",\n",
    "                     \"delay\": 4} \n",
    "                       \n",
    "        # Providing arguments for the searched query \n",
    "        try: \n",
    "            # Downloading the photos based \n",
    "            # on the given arguments \n",
    "            response.download(arguments)  \n",
    "        except: \n",
    "            pass"
   ]
  },
  {
   "cell_type": "code",
   "execution_count": 86,
   "metadata": {},
   "outputs": [],
   "source": [
    "response = google_images_download.googleimagesdownload()"
   ]
  },
  {
   "cell_type": "code",
   "execution_count": 90,
   "metadata": {},
   "outputs": [
    {
     "name": "stdout",
     "output_type": "stream",
     "text": [
      "1579  -  wildr  Hopfen\n",
      "\n",
      "Item no.: 1 --> Item name = wildr  Hopfen\n",
      "Evaluating...\n",
      "Starting Download...\n",
      "Image URL: https://www.kostbarenatur.net/wp-content/uploads/2017/01/wilder-hopfen-humulus-lupulus-1-800x445.jpg\n",
      "Completed Image ====> 1.wilder-hopfen-humulus-lupulus-1-800x445.jpg\n",
      "Image URL: https://www.kostbarenatur.net/wp-content/uploads/2017/01/Hop_mannelijke_bloeiwijze_Humulus_lupulus_male_plant-545x800.jpg\n",
      "Completed Image ====> 2.Hop_mannelijke_bloeiwijze_Humulus_lupulus_male_plant-545x800.jpg\n",
      "Image URL: https://www.gartentipps.com/wp-content/uploads/2015/12/wilden-hopfen-bekaempfen.jpg\n",
      "Completed Image ====> 3.wilden-hopfen-bekaempfen.jpg\n",
      "Image URL: https://www.kostbarenatur.net/wp-content/uploads/2017/01/2778709968_391ff55e6f_b.jpg\n",
      "Completed Image ====> 4.2778709968_391ff55e6f_b.jpg\n",
      "Image URL: https://austria-forum.org/attach/Bilder_und_Videos/Herrliche_Natur/Wilder_Hopfen/wilder%20Hopfen%2003%20wb.jpg\n",
      "Completed Image ====> 5.wilder%20Hopfen%2003%20wb.jpg\n",
      "Image URL: https://www.kostbarenatur.net/wp-content/uploads/2017/01/1024px-Humulus_lupulus_012-807x800.jpg\n",
      "Completed Image ====> 6.1024px-Humulus_lupulus_012-807x800.jpg\n",
      "Image URL: https://upload.wikimedia.org/wikipedia/commons/e/e9/Illustration_Humulus_lupulus0.jpg\n",
      "Completed Image ====> 7.Illustration_Humulus_lupulus0.jpg\n",
      "Image URL: https://www.kostbarenatur.net/wp-content/uploads/2017/01/0_Humulus_lupulus_-_Houblon_-_Amay-533x800.jpg\n",
      "Completed Image ====> 8.0_Humulus_lupulus_-_Houblon_-_Amay-533x800.jpg\n",
      "Image URL: https://www.templiner-kraeutergarten.de/media/image/product/6421/md/humulus-lupulus-wilder-hopfen-saatgut.jpg\n",
      "Completed Image ====> 9.humulus-lupulus-wilder-hopfen-saatgut.jpg\n",
      "Image URL: https://cdn.pflanzmich.de/produkt/41078/hop-harvest-1596086_1920_origin_img.jpg\n",
      "Completed Image ====> 10.hop-harvest-1596086_1920_origin_img.jpg\n",
      "\n",
      "Errors: 0\n",
      "\n"
     ]
    }
   ],
   "source": [
    "for idn, name in enumerate(sorted(names)):\n",
    "    search_term = re.sub(r'[^A-Za-z\\s]+','', name)\n",
    "    search_term = re.sub(r'[\\(\\)]+',' ', search_term)\n",
    "    clear_output()\n",
    "    print(idn, ' - ', search_term)\n",
    "    downloadimages(search_term)"
   ]
  },
  {
   "cell_type": "code",
   "execution_count": null,
   "metadata": {},
   "outputs": [],
   "source": []
  }
 ],
 "metadata": {
  "kernelspec": {
   "display_name": "Python 3",
   "language": "python",
   "name": "python3"
  },
  "language_info": {
   "codemirror_mode": {
    "name": "ipython",
    "version": 3
   },
   "file_extension": ".py",
   "mimetype": "text/x-python",
   "name": "python",
   "nbconvert_exporter": "python",
   "pygments_lexer": "ipython3",
   "version": "3.6.8"
  }
 },
 "nbformat": 4,
 "nbformat_minor": 2
}
